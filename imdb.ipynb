{
  "nbformat": 4,
  "nbformat_minor": 0,
  "metadata": {
    "colab": {
      "name": "imdb.ipynb",
      "provenance": [],
      "collapsed_sections": [
        "1GvX_6Hc63QV",
        "Lvu1XMPO7AGf",
        "fXA-qeQV7YiG",
        "rpqzSlEP7hlz",
        "cahboJ-B7q4o",
        "0Yr-ZV9-729l",
        "kuRmTRnj8yVU",
        "thr7Ojoa84TH"
      ],
      "authorship_tag": "ABX9TyOCCDRR+myFNtJ+J3Nf/mPT",
      "include_colab_link": true
    },
    "kernelspec": {
      "name": "python3",
      "display_name": "Python 3"
    },
    "language_info": {
      "name": "python"
    }
  },
  "cells": [
    {
      "cell_type": "markdown",
      "metadata": {
        "id": "view-in-github",
        "colab_type": "text"
      },
      "source": [
        "<a href=\"https://colab.research.google.com/github/javedmatrah/AIQ2/blob/main/imdb.ipynb\" target=\"_parent\"><img src=\"https://colab.research.google.com/assets/colab-badge.svg\" alt=\"Open In Colab\"/></a>"
      ]
    },
    {
      "cell_type": "code",
      "execution_count": 28,
      "metadata": {
        "id": "MxXaevT64FRq"
      },
      "outputs": [],
      "source": [
        ""
      ]
    },
    {
      "cell_type": "markdown",
      "source": [
        "#3.4.1 The IMDB dataset\n",
        "Samples 50,000 review samples<br>\n",
        "25,000 for training and 25,000 for testing. <br>\n",
        "50% Negative and 50% positive  Reviews<br>\n",
        "Available in Kears pre data sets pre converted in Vector numbers where each number replace spacifice word.<br>\n",
        "80 Mb data size download when you first run otherwise you can see this data set file in .keras folder\n",
        "#Listing 3.1 Loading the IMDB dataset\n",
        "\n",
        "\n"
      ],
      "metadata": {
        "id": "vADwCibV4pp7"
      }
    },
    {
      "cell_type": "markdown",
      "source": [
        ""
      ],
      "metadata": {
        "id": "pnG_t_vt4puT"
      }
    },
    {
      "cell_type": "code",
      "source": [
        "from tensorflow.keras.datasets import imdb\n",
        "(train_data, train_labels), (test_data, test_labels) = imdb.load_data(num_words=10000)"
      ],
      "metadata": {
        "id": "4Q78n3sD5V09"
      },
      "execution_count": 29,
      "outputs": []
    },
    {
      "cell_type": "code",
      "source": [
        "print(\"X:  \",len(train_data[0]))\n",
        "print(\"X:  \",train_data[0])\n",
        "\n",
        "print(\"Y:  \",train_labels[0])"
      ],
      "metadata": {
        "colab": {
          "base_uri": "https://localhost:8080/"
        },
        "id": "PTE1AAxN5WzT",
        "outputId": "fccc12b2-e0f8-4ba0-e77a-398fbefb516b"
      },
      "execution_count": 30,
      "outputs": [
        {
          "output_type": "stream",
          "name": "stdout",
          "text": [
            "X:   218\n",
            "X:   [1, 14, 22, 16, 43, 530, 973, 1622, 1385, 65, 458, 4468, 66, 3941, 4, 173, 36, 256, 5, 25, 100, 43, 838, 112, 50, 670, 2, 9, 35, 480, 284, 5, 150, 4, 172, 112, 167, 2, 336, 385, 39, 4, 172, 4536, 1111, 17, 546, 38, 13, 447, 4, 192, 50, 16, 6, 147, 2025, 19, 14, 22, 4, 1920, 4613, 469, 4, 22, 71, 87, 12, 16, 43, 530, 38, 76, 15, 13, 1247, 4, 22, 17, 515, 17, 12, 16, 626, 18, 2, 5, 62, 386, 12, 8, 316, 8, 106, 5, 4, 2223, 5244, 16, 480, 66, 3785, 33, 4, 130, 12, 16, 38, 619, 5, 25, 124, 51, 36, 135, 48, 25, 1415, 33, 6, 22, 12, 215, 28, 77, 52, 5, 14, 407, 16, 82, 2, 8, 4, 107, 117, 5952, 15, 256, 4, 2, 7, 3766, 5, 723, 36, 71, 43, 530, 476, 26, 400, 317, 46, 7, 4, 2, 1029, 13, 104, 88, 4, 381, 15, 297, 98, 32, 2071, 56, 26, 141, 6, 194, 7486, 18, 4, 226, 22, 21, 134, 476, 26, 480, 5, 144, 30, 5535, 18, 51, 36, 28, 224, 92, 25, 104, 4, 226, 65, 16, 38, 1334, 88, 12, 16, 283, 5, 16, 4472, 113, 103, 32, 15, 16, 5345, 19, 178, 32]\n",
            "Y:   1\n"
          ]
        }
      ]
    },
    {
      "cell_type": "code",
      "source": [
        "print(\"X:  \",len(train_data[1]))"
      ],
      "metadata": {
        "colab": {
          "base_uri": "https://localhost:8080/"
        },
        "id": "OGXyiu3E5gUC",
        "outputId": "a025ffb0-35ed-4869-8fd1-dbff701150ba"
      },
      "execution_count": 31,
      "outputs": [
        {
          "output_type": "stream",
          "name": "stdout",
          "text": [
            "X:   189\n"
          ]
        }
      ]
    },
    {
      "cell_type": "markdown",
      "source": [
        ""
      ],
      "metadata": {
        "id": "cK4meJav42Kt"
      }
    },
    {
      "cell_type": "code",
      "source": [
        "\n"
      ],
      "metadata": {
        "id": "-J3F1no442p5"
      },
      "execution_count": 31,
      "outputs": []
    },
    {
      "cell_type": "code",
      "source": [
        "max([max(sequence) for sequence in train_data])"
      ],
      "metadata": {
        "colab": {
          "base_uri": "https://localhost:8080/"
        },
        "id": "4hQFgE_I5weP",
        "outputId": "ec6fb7b4-6f35-4102-ad02-39f8e9554e5e"
      },
      "execution_count": 32,
      "outputs": [
        {
          "output_type": "execute_result",
          "data": {
            "text/plain": [
              "9999"
            ]
          },
          "metadata": {},
          "execution_count": 32
        }
      ]
    },
    {
      "cell_type": "code",
      "source": [
        "word_index = imdb.get_word_index()\n",
        "\n",
        "reverse_word_index = dict(\n",
        "    [(value, key) for (key, value) in word_index.items()])\n",
        "\n",
        "\n",
        "decoded_review = ' '.join(\n",
        "    [reverse_word_index.get(i - 3, '?') for i in train_data[0]])\n",
        "                        #   1-3\n",
        "                        #   -2"
      ],
      "metadata": {
        "id": "CHRKrtCs57iy"
      },
      "execution_count": 33,
      "outputs": []
    },
    {
      "cell_type": "code",
      "source": [
        "reverse_word_index.get(100, '?')"
      ],
      "metadata": {
        "colab": {
          "base_uri": "https://localhost:8080/",
          "height": 35
        },
        "id": "nEBpyed75_DA",
        "outputId": "67ea0a69-0774-4801-b21e-c1d4c81d4d92"
      },
      "execution_count": 34,
      "outputs": [
        {
          "output_type": "execute_result",
          "data": {
            "text/plain": [
              "'after'"
            ],
            "application/vnd.google.colaboratory.intrinsic+json": {
              "type": "string"
            }
          },
          "metadata": {},
          "execution_count": 34
        }
      ]
    },
    {
      "cell_type": "code",
      "source": [
        "#word_index"
      ],
      "metadata": {
        "id": "rbc56-cP6GGE"
      },
      "execution_count": 35,
      "outputs": []
    },
    {
      "cell_type": "code",
      "source": [
        "#reverse_word_index"
      ],
      "metadata": {
        "id": "h13DqhYN6UN4"
      },
      "execution_count": 36,
      "outputs": []
    },
    {
      "cell_type": "code",
      "source": [
        "decoded_review"
      ],
      "metadata": {
        "colab": {
          "base_uri": "https://localhost:8080/",
          "height": 157
        },
        "id": "ZQ6MMZbt6djf",
        "outputId": "c25a5ad7-1f99-4ca9-f219-88f8df2964af"
      },
      "execution_count": 37,
      "outputs": [
        {
          "output_type": "execute_result",
          "data": {
            "text/plain": [
              "\"? this film was just brilliant casting location scenery story direction everyone's really suited the part they played and you could just imagine being there robert ? is an amazing actor and now the same being director ? father came from the same scottish island as myself so i loved the fact there was a real connection with this film the witty remarks throughout the film were great it was just brilliant so much that i bought the film as soon as it was released for ? and would recommend it to everyone to watch and the fly fishing was amazing really cried at the end it was so sad and you know what they say if you cry at a film it must have been good and this definitely was also ? to the two little boy's that played the ? of norman and paul they were just brilliant children are often left out of the ? list i think because the stars that play them all grown up are such a big profile for the whole film but these children are amazing and should be praised for what they have done don't you think the whole story was so lovely because it was true and was someone's life after all that was shared with us all\""
            ],
            "application/vnd.google.colaboratory.intrinsic+json": {
              "type": "string"
            }
          },
          "metadata": {},
          "execution_count": 37
        }
      ]
    },
    {
      "cell_type": "code",
      "source": [
        ""
      ],
      "metadata": {
        "id": "EW8eJh-k6jLs"
      },
      "execution_count": 37,
      "outputs": []
    },
    {
      "cell_type": "markdown",
      "source": [
        "#3.4.2 Preparing the data\n",
        "Each sample length are differents but our network accept spacific shape size tensor we have to convert each sample into equal size of tensor apply vectorization technics like one-hot-encodev"
      ],
      "metadata": {
        "id": "1GvX_6Hc63QV"
      }
    },
    {
      "cell_type": "code",
      "source": [
        ""
      ],
      "metadata": {
        "id": "7_rhMm-u66gM"
      },
      "execution_count": 37,
      "outputs": []
    },
    {
      "cell_type": "markdown",
      "source": [
        "#Listing 3.2 Encoding the integer sequences into a binary matrix"
      ],
      "metadata": {
        "id": "Lvu1XMPO7AGf"
      }
    },
    {
      "cell_type": "code",
      "source": [
        "#train_data[0]"
      ],
      "metadata": {
        "id": "xHJy05Y77Bna"
      },
      "execution_count": 38,
      "outputs": []
    },
    {
      "cell_type": "code",
      "source": [
        "import numpy as np\n",
        "def vectorize_sequences(sequences, dimension=10000):\n",
        "    results = np.zeros((len(sequences), dimension))\n",
        "    for i, sequence in enumerate(sequences):\n",
        "        results[i, sequence] = 1.\n",
        "    return results\n",
        "\n",
        "x_train = vectorize_sequences(train_data)\n",
        "x_test = vectorize_sequences(test_data)"
      ],
      "metadata": {
        "id": "IhnWWwO_7FqO"
      },
      "execution_count": 39,
      "outputs": []
    },
    {
      "cell_type": "code",
      "source": [
        "print(x_train[0])\n",
        "print(len(x_train[0]))"
      ],
      "metadata": {
        "colab": {
          "base_uri": "https://localhost:8080/"
        },
        "id": "uFwNwCuQ7NM9",
        "outputId": "5ec2ac3f-4b2c-48a1-90c6-9b256b206b58"
      },
      "execution_count": 40,
      "outputs": [
        {
          "output_type": "stream",
          "name": "stdout",
          "text": [
            "[0. 1. 1. ... 0. 0. 0.]\n",
            "10000\n"
          ]
        }
      ]
    },
    {
      "cell_type": "code",
      "source": [
        ""
      ],
      "metadata": {
        "id": "Fr3R4exq7R-s"
      },
      "execution_count": 40,
      "outputs": []
    },
    {
      "cell_type": "markdown",
      "source": [
        "#You should also vectorize your labels, which is straightforward:"
      ],
      "metadata": {
        "id": "fXA-qeQV7YiG"
      }
    },
    {
      "cell_type": "code",
      "source": [
        "y_train = np.asarray(train_labels).astype('float32')\n",
        "y_test = np.asarray(test_labels).astype('float32')\n",
        "y_train[0]"
      ],
      "metadata": {
        "colab": {
          "base_uri": "https://localhost:8080/"
        },
        "id": "XfrV4OGR7Zwh",
        "outputId": "e133bd41-8545-4de3-8266-678d066d94f2"
      },
      "execution_count": 41,
      "outputs": [
        {
          "output_type": "execute_result",
          "data": {
            "text/plain": [
              "1.0"
            ]
          },
          "metadata": {},
          "execution_count": 41
        }
      ]
    },
    {
      "cell_type": "code",
      "source": [
        ""
      ],
      "metadata": {
        "id": "X3hOOgQt7eYt"
      },
      "execution_count": 41,
      "outputs": []
    },
    {
      "cell_type": "markdown",
      "source": [
        "#3.4.3 Building your network\n",
        "##Listing 3.3 The model definition"
      ],
      "metadata": {
        "id": "rpqzSlEP7hlz"
      }
    },
    {
      "cell_type": "code",
      "source": [
        "from tensorflow.keras import models\n",
        "from tensorflow.keras import layers\n",
        "\n",
        "model = models.Sequential()\n",
        "model.add(layers.Dense(16, activation='relu', input_shape=(10000,)))\n",
        "model.add(layers.Dense(16, activation='relu'))\n",
        "model.add(layers.Dense(1, activation='sigmoid'))"
      ],
      "metadata": {
        "id": "wD7vd-eA7i9N"
      },
      "execution_count": 42,
      "outputs": []
    },
    {
      "cell_type": "code",
      "source": [
        ""
      ],
      "metadata": {
        "id": "wANL-KD37oUM"
      },
      "execution_count": 42,
      "outputs": []
    },
    {
      "cell_type": "markdown",
      "source": [
        "#compilation step\n",
        "Loss function (binary_crossentropy,mean_squared_error) but binary_crossentropy is best\n",
        "##Listing 3.4 Compiling the modelv"
      ],
      "metadata": {
        "id": "cahboJ-B7q4o"
      }
    },
    {
      "cell_type": "code",
      "source": [
        "model.compile(optimizer='rmsprop',\n",
        "              loss='binary_crossentropy',\n",
        "              metrics=['accuracy'])"
      ],
      "metadata": {
        "id": "ILjBNfFT7uJB"
      },
      "execution_count": 43,
      "outputs": []
    },
    {
      "cell_type": "code",
      "source": [
        ""
      ],
      "metadata": {
        "id": "Y4qCoO6e703i"
      },
      "execution_count": 43,
      "outputs": []
    },
    {
      "cell_type": "markdown",
      "source": [
        "#3.4.4 Validating your approach"
      ],
      "metadata": {
        "id": "0Yr-ZV9-729l"
      }
    },
    {
      "cell_type": "code",
      "source": [
        "x_val = x_train[:10000]\n",
        "partial_x_train = x_train[10000:]"
      ],
      "metadata": {
        "id": "37Qug3pF734E"
      },
      "execution_count": 44,
      "outputs": []
    },
    {
      "cell_type": "code",
      "source": [
        "y_val = y_train[:10000]\n",
        "partial_y_train = y_train[10000:]"
      ],
      "metadata": {
        "id": "q32wJffC76Yq"
      },
      "execution_count": 45,
      "outputs": []
    },
    {
      "cell_type": "code",
      "source": [
        ""
      ],
      "metadata": {
        "id": "9FEkHSwc78A5"
      },
      "execution_count": 45,
      "outputs": []
    },
    {
      "cell_type": "markdown",
      "source": [
        "#Listing 3.8 Training your model"
      ],
      "metadata": {
        "id": "E_km4leu7-CP"
      }
    },
    {
      "cell_type": "code",
      "source": [
        "history = model.fit(partial_x_train,\n",
        "                    partial_y_train,\n",
        "                    epochs=20,\n",
        "                    batch_size=128,\n",
        "                    validation_data=(x_val, y_val))"
      ],
      "metadata": {
        "colab": {
          "base_uri": "https://localhost:8080/"
        },
        "id": "zuCKCboV7_DJ",
        "outputId": "12d8be0f-1ea9-4279-cf20-8bf858f44e64"
      },
      "execution_count": 48,
      "outputs": [
        {
          "output_type": "stream",
          "name": "stdout",
          "text": [
            "Epoch 1/20\n",
            "118/118 [==============================] - 2s 15ms/step - loss: 0.3997 - accuracy: 0.8335 - val_loss: 0.3328 - val_accuracy: 0.8648\n",
            "Epoch 2/20\n",
            "118/118 [==============================] - 1s 12ms/step - loss: 0.2152 - accuracy: 0.9214 - val_loss: 0.2717 - val_accuracy: 0.8907\n",
            "Epoch 3/20\n",
            "118/118 [==============================] - 1s 12ms/step - loss: 0.1561 - accuracy: 0.9435 - val_loss: 0.3087 - val_accuracy: 0.8813\n",
            "Epoch 4/20\n",
            "118/118 [==============================] - 1s 13ms/step - loss: 0.1194 - accuracy: 0.9575 - val_loss: 0.3978 - val_accuracy: 0.8670\n",
            "Epoch 5/20\n",
            "118/118 [==============================] - 1s 12ms/step - loss: 0.0891 - accuracy: 0.9693 - val_loss: 0.3624 - val_accuracy: 0.8807\n",
            "Epoch 6/20\n",
            "118/118 [==============================] - 2s 13ms/step - loss: 0.0649 - accuracy: 0.9783 - val_loss: 0.4237 - val_accuracy: 0.8749\n",
            "Epoch 7/20\n",
            "118/118 [==============================] - 2s 15ms/step - loss: 0.0449 - accuracy: 0.9868 - val_loss: 0.4783 - val_accuracy: 0.8715\n",
            "Epoch 8/20\n",
            "118/118 [==============================] - 1s 12ms/step - loss: 0.0288 - accuracy: 0.9913 - val_loss: 0.6029 - val_accuracy: 0.8653\n",
            "Epoch 9/20\n",
            "118/118 [==============================] - 1s 12ms/step - loss: 0.0200 - accuracy: 0.9941 - val_loss: 0.6341 - val_accuracy: 0.8663\n",
            "Epoch 10/20\n",
            "118/118 [==============================] - 1s 12ms/step - loss: 0.0106 - accuracy: 0.9974 - val_loss: 0.7058 - val_accuracy: 0.8658\n",
            "Epoch 11/20\n",
            "118/118 [==============================] - 1s 12ms/step - loss: 0.0063 - accuracy: 0.9986 - val_loss: 0.9168 - val_accuracy: 0.8588\n",
            "Epoch 12/20\n",
            "118/118 [==============================] - 1s 13ms/step - loss: 0.0031 - accuracy: 0.9993 - val_loss: 0.9234 - val_accuracy: 0.8627\n",
            "Epoch 13/20\n",
            "118/118 [==============================] - 2s 13ms/step - loss: 0.0029 - accuracy: 0.9994 - val_loss: 1.0167 - val_accuracy: 0.8617\n",
            "Epoch 14/20\n",
            "118/118 [==============================] - 1s 12ms/step - loss: 7.9171e-04 - accuracy: 0.9999 - val_loss: 1.1224 - val_accuracy: 0.8623\n",
            "Epoch 15/20\n",
            "118/118 [==============================] - 1s 12ms/step - loss: 4.2408e-04 - accuracy: 0.9999 - val_loss: 1.2202 - val_accuracy: 0.8608\n",
            "Epoch 16/20\n",
            "118/118 [==============================] - 1s 12ms/step - loss: 2.3488e-04 - accuracy: 0.9999 - val_loss: 1.3237 - val_accuracy: 0.8607\n",
            "Epoch 17/20\n",
            "118/118 [==============================] - 1s 13ms/step - loss: 8.4723e-05 - accuracy: 1.0000 - val_loss: 1.4735 - val_accuracy: 0.8609\n",
            "Epoch 18/20\n",
            "118/118 [==============================] - 2s 13ms/step - loss: 3.9177e-05 - accuracy: 1.0000 - val_loss: 1.5655 - val_accuracy: 0.8607\n",
            "Epoch 19/20\n",
            "118/118 [==============================] - 1s 12ms/step - loss: 2.0289e-05 - accuracy: 1.0000 - val_loss: 1.6412 - val_accuracy: 0.8587\n",
            "Epoch 20/20\n",
            "118/118 [==============================] - 1s 13ms/step - loss: 4.9240e-06 - accuracy: 1.0000 - val_loss: 1.7586 - val_accuracy: 0.8604\n"
          ]
        }
      ]
    },
    {
      "cell_type": "code",
      "source": [
        "history_dict = history.history\n",
        "history_dict.keys()"
      ],
      "metadata": {
        "colab": {
          "base_uri": "https://localhost:8080/"
        },
        "id": "oejJmyn38ERv",
        "outputId": "d696593c-fc9b-4663-99a2-aa30920de5c2"
      },
      "execution_count": 49,
      "outputs": [
        {
          "output_type": "execute_result",
          "data": {
            "text/plain": [
              "dict_keys(['loss', 'accuracy', 'val_loss', 'val_accuracy'])"
            ]
          },
          "metadata": {},
          "execution_count": 49
        }
      ]
    },
    {
      "cell_type": "code",
      "source": [
        ""
      ],
      "metadata": {
        "id": "PnpMwg8t8Qep"
      },
      "execution_count": null,
      "outputs": []
    },
    {
      "cell_type": "markdown",
      "source": [
        "#Listing 3.9 Plotting the training and validation loss"
      ],
      "metadata": {
        "id": "ttQM-MtV8TtG"
      }
    },
    {
      "cell_type": "code",
      "source": [
        "import matplotlib.pyplot as plt\n",
        "history_dict = history.history\n",
        "loss_values = history_dict['loss']\n",
        "val_loss_values = history_dict['val_loss']\n",
        "epochs = np.arange(1, len(loss_values) + 1)\n",
        "plt.plot(epochs, loss_values, 'bo', label='Training loss')\n",
        "plt.plot(epochs, val_loss_values, 'b', label='Validation loss')\n",
        "plt.title('Training and validation loss')\n",
        "plt.xlabel('Epochs')\n",
        "plt.ylabel('Loss')\n",
        "plt.legend()\n",
        "plt.show()"
      ],
      "metadata": {
        "colab": {
          "base_uri": "https://localhost:8080/",
          "height": 295
        },
        "id": "auchx1XB8UsW",
        "outputId": "f90a3d84-d208-4708-9f57-4bc0c5f04a29"
      },
      "execution_count": 51,
      "outputs": [
        {
          "output_type": "display_data",
          "data": {
            "text/plain": [
              "<Figure size 432x288 with 1 Axes>"
            ],
            "image/png": "[encoded data removed]"
          },
          "metadata": {
            "needs_background": "light"
          }
        }
      ]
    },
    {
      "cell_type": "code",
      "source": [
        ""
      ],
      "metadata": {
        "id": "O8yR4k7o8W94"
      },
      "execution_count": null,
      "outputs": []
    },
    {
      "cell_type": "markdown",
      "source": [
        "#Listing 3.10 Plotting the training and validation accuracy"
      ],
      "metadata": {
        "id": "vwsG7ukK8ZsT"
      }
    },
    {
      "cell_type": "code",
      "source": [
        "plt.clf()\n",
        "acc_values = history_dict['accuracy']\n",
        "val_acc_values = history_dict['val_accuracy']\n",
        "plt.plot(epochs, acc_values, 'bo', label='Training acc')\n",
        "plt.plot(epochs, val_acc_values, 'b', label='Validation acc')\n",
        "plt.title('Training and validation accuracy')\n",
        "plt.xlabel('Epochs')\n",
        "plt.ylabel('Loss')\n",
        "plt.legend()\n",
        "plt.show()"
      ],
      "metadata": {
        "colab": {
          "base_uri": "https://localhost:8080/",
          "height": 295
        },
        "id": "KILk9QU88agx",
        "outputId": "4b8003d6-5c55-4ae4-8a12-a2d6b1e5cb25"
      },
      "execution_count": 55,
      "outputs": [
        {
          "output_type": "display_data",
          "data": {
            "text/plain": [
              "<Figure size 432x288 with 1 Axes>"
            ],
            "image/png": "[encoded data removed]"
          },
          "metadata": {
            "needs_background": "light"
          }
        }
      ]
    },
    {
      "cell_type": "code",
      "source": [
        ""
      ],
      "metadata": {
        "id": "l7J1KCah8cyl"
      },
      "execution_count": null,
      "outputs": []
    },
    {
      "cell_type": "markdown",
      "source": [
        "#Listing 3.11 Retraining a model from scratch"
      ],
      "metadata": {
        "id": "ZkTAJ9wI8hul"
      }
    },
    {
      "cell_type": "code",
      "source": [
        "# model = models.Sequential()\n",
        "# model.add(layers.Dense(16, activation='relu', input_shape=(10000,)))\n",
        "# model.add(layers.Dense(16, activation='relu'))\n",
        "# model.add(layers.Dense(1, activation='sigmoid'))\n",
        "\n",
        "# model.compile(optimizer='rmsprop',\n",
        "#               loss='binary_crossentropy',\n",
        "#               metrics=['accuracy'])\n",
        "\n",
        "# model.fit(x_train, y_train, epochs=4, batch_size=512)\n",
        "# results = model.evaluate(x_test, y_test)"
      ],
      "metadata": {
        "id": "NTkxgNWP8kC8"
      },
      "execution_count": 23,
      "outputs": []
    },
    {
      "cell_type": "code",
      "source": [
        "model = models.Sequential()\n",
        "model.add(layers.Dense(16, activation='tanh', input_shape=(10000,)))\n",
        "model.add(layers.Dense(16, activation='tanh'))\n",
        "model.add(layers.Dense(1, activation='tanh'))\n",
        "\n",
        "model.compile(optimizer='rmsprop',\n",
        "              loss='mse',\n",
        "              metrics=['accuracy'])\n",
        "\n",
        "model.fit(x_train, y_train, epochs=4, batch_size=512)\n",
        "results = model.evaluate(x_test, y_test)"
      ],
      "metadata": {
        "colab": {
          "base_uri": "https://localhost:8080/"
        },
        "id": "5orneyKff10p",
        "outputId": "1d1161c8-aadc-4e88-edfa-2562e9acb649"
      },
      "execution_count": 28,
      "outputs": [
        {
          "output_type": "stream",
          "name": "stdout",
          "text": [
            "Epoch 1/4\n",
            "49/49 [==============================] - 2s 30ms/step - loss: 0.1716 - accuracy: 0.7670\n",
            "Epoch 2/4\n",
            "49/49 [==============================] - 1s 28ms/step - loss: 0.0959 - accuracy: 0.8922\n",
            "Epoch 3/4\n",
            "49/49 [==============================] - 1s 29ms/step - loss: 0.0725 - accuracy: 0.9222\n",
            "Epoch 4/4\n",
            "49/49 [==============================] - 1s 28ms/step - loss: 0.0584 - accuracy: 0.9375\n",
            "782/782 [==============================] - 3s 3ms/step - loss: 0.0916 - accuracy: 0.8799\n"
          ]
        }
      ]
    },
    {
      "cell_type": "code",
      "source": [
        "results"
      ],
      "metadata": {
        "colab": {
          "base_uri": "https://localhost:8080/"
        },
        "id": "GOEoA65v8m5G",
        "outputId": "95590968-ac37-40a7-d5c9-494acb322275"
      },
      "execution_count": 25,
      "outputs": [
        {
          "output_type": "execute_result",
          "data": {
            "text/plain": [
              "[0.0882277712225914, 0.8799200057983398]"
            ]
          },
          "metadata": {},
          "execution_count": 25
        }
      ]
    },
    {
      "cell_type": "code",
      "source": [
        ""
      ],
      "metadata": {
        "id": "toXroEXf8r8r"
      },
      "execution_count": null,
      "outputs": []
    },
    {
      "cell_type": "markdown",
      "source": [
        "This fairly naive approach achieves an accuracy of 88%. With state-of-the-art approaches, you should be able to get close to 95%."
      ],
      "metadata": {
        "id": "FVapJ3Qn8vNR"
      }
    },
    {
      "cell_type": "code",
      "source": [
        ""
      ],
      "metadata": {
        "id": "DvGZ9o6Z8wI5"
      },
      "execution_count": null,
      "outputs": []
    },
    {
      "cell_type": "markdown",
      "source": [
        "#3.4.5 Using a trained network to generate predictions on new data"
      ],
      "metadata": {
        "id": "kuRmTRnj8yVU"
      }
    },
    {
      "cell_type": "code",
      "source": [
        "model.predict(x_test)"
      ],
      "metadata": {
        "colab": {
          "base_uri": "https://localhost:8080/"
        },
        "id": "al8CT7hT8zN2",
        "outputId": "9f292937-a104-41ec-e9df-b1b1e0f89f04"
      },
      "execution_count": null,
      "outputs": [
        {
          "output_type": "execute_result",
          "data": {
            "text/plain": [
              "array([[0.20866603],\n",
              "       [0.9994003 ],\n",
              "       [0.71321034],\n",
              "       ...,\n",
              "       [0.09015474],\n",
              "       [0.07647404],\n",
              "       [0.44027507]], dtype=float32)"
            ]
          },
          "metadata": {},
          "execution_count": 25
        }
      ]
    },
    {
      "cell_type": "code",
      "source": [
        ""
      ],
      "metadata": {
        "id": "Ka-enKgq81I-"
      },
      "execution_count": null,
      "outputs": []
    },
    {
      "cell_type": "markdown",
      "source": [
        "#3.4.6 Further experiments\n",
        "The following experiments will help convince you that the architecture choices you’ve made are all fairly reasonable, although there’s still room for improvement:\n",
        "\n",
        "You used two hidden layers. Try using one or three hidden layers, and see how doing so affects validation and test accuracy.\n",
        "Try using layers with more hidden units or fewer hidden units: 32 units, 64 units, and so on.\n",
        "Try using the mse loss function instead of binary_crossentropy.\n",
        "Try using the tanh activation (an activation that was popular in the early days of neural networks) instead of relu."
      ],
      "metadata": {
        "id": "thr7Ojoa84TH"
      }
    },
    {
      "cell_type": "code",
      "source": [
        ""
      ],
      "metadata": {
        "id": "CFu0KDcy86Jl"
      },
      "execution_count": null,
      "outputs": []
    }
  ]
}