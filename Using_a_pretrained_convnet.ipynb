{
  "nbformat": 4,
  "nbformat_minor": 0,
  "metadata": {
    "colab": {
      "name": "Using a pretrained convnet.ipynb",
      "provenance": [],
      "collapsed_sections": [],
      "machine_shape": "hm",
      "authorship_tag": "ABX9TyODaGY4Fk3WW57QaEtiub+k",
      "include_colab_link": true
    },
    "kernelspec": {
      "name": "python3",
      "display_name": "Python 3"
    },
    "language_info": {
      "name": "python"
    },
    "accelerator": "GPU"
  },
  "cells": [
    {
      "cell_type": "markdown",
      "metadata": {
        "id": "view-in-github",
        "colab_type": "text"
      },
      "source": [
        "<a href=\"https://colab.research.google.com/github/javedmatrah/PIAIC-AI-Batch_27-D.I.Khan/blob/main/Using_a_pretrained_convnet.ipynb\" target=\"_parent\"><img src=\"https://colab.research.google.com/assets/colab-badge.svg\" alt=\"Open In Colab\"/></a>"
      ]
    },
    {
      "cell_type": "markdown",
      "source": [
        "#Using a pre-trained convnet\n",
        "A common and highly effective approach to deep learning on small image datasets is to leverage a pre-trained network. A pre-trained network is simply a saved network previously trained on a large dataset, typically on a large-scale image classification task. If this original dataset is large enough and general enough, then the spatial feature hierarchy learned by the pre-trained network can effectively act as a generic model of our visual world, and hence its features can prove useful for many different computer vision problems, even though these new problems might involve completely different classes from those of the original task. For instance, one might train a network on ImageNet (where classes are mostly animals and everyday objects) and then re-purpose this trained network for something as remote as identifying furniture items in images. Such portability of learned features across different problems is a key advantage of deep learning compared to many older shallow learning approaches, and it makes deep learning very effective for small-data problems.\n",
        "n our case, we will consider a large convnet trained on the ImageNet dataset (1.4 million labeled images and 1000 different classes). ImageNet contains many animal classes, including different species of cats and dogs, and we can thus expect to perform very well on our cat vs. dog classification problem.\n",
        "\n",
        "We will use the VGG16 architecture, developed by Karen Simonyan and Andrew Zisserman in 2014, a simple and widely used convnet architecture for ImageNet. Although it is a bit of an older model, far from the current state of the art and somewhat heavier than many other recent models, we chose it because its architecture is similar to what you are already familiar with, and easy to understand without introducing any new concepts. This may be your first encounter with one of these cutesie model names -- VGG, ResNet, Inception, Inception-ResNet, Xception... you will get used to them, as they will come up frequently if you keep doing deep learning for computer vision.\n",
        "\n",
        "There are two ways to leverage a pre-trained network: feature extraction and fine-tuning. We will cover both of them. Let's start with feature extraction.\n",
        "Feature extraction\n",
        "Feature extraction consists of using the representations learned by a previous network to extract interesting features from new samples. These features are then run through a new classifier, which is trained from scratch.\n",
        "\n",
        "As we saw previously, convnets used for image classification comprise two parts: they start with a series of pooling and convolution layers, and they end with a densely-connected classifier. The first part is called the \"convolutional base\" of the model. In the case of convnets, \"feature extraction\" will simply consist of taking the convolutional base of a previously-trained network, running the new data through it, and training a new classifier on top of the output.\n",
        "\n",
        "Let's put this in practice by using the convolutional base of the VGG16 network, trained on ImageNet, to extract interesting features from our cat and dog images, and then training a cat vs. dog classifier on top of these features.\n",
        "\n",
        "The VGG16 model, among others, comes pre-packaged with Keras. You can import it from the keras.applications module. \n",
        "Let's instantiate the VGG16 model:"
      ],
      "metadata": {
        "id": "SGkvTcUsO_Qi"
      }
    },
    {
      "cell_type": "code",
      "source": [
        "from tensorflow.keras.applications import VGG16\n",
        "#include_top=false means we dont use the built-in classifier of conv base. \n",
        "#Input shape tells about the colored images.\n",
        "conv_base = VGG16(weights='imagenet',\n",
        "                  include_top=False,\n",
        "                  input_shape=(150, 150, 3))"
      ],
      "metadata": {
        "colab": {
          "base_uri": "https://localhost:8080/"
        },
        "id": "3QUTt7ugPAnU",
        "outputId": "d4f26bc0-1fa5-4048-dcaa-1ac2d21b39cd"
      },
      "execution_count": 1,
      "outputs": [
        {
          "output_type": "stream",
          "name": "stdout",
          "text": [
            "Downloading data from https://storage.googleapis.com/tensorflow/keras-applications/vgg16/vgg16_weights_tf_dim_ordering_tf_kernels_notop.h5\n",
            "58892288/58889256 [==============================] - 0s 0us/step\n",
            "58900480/58889256 [==============================] - 0s 0us/step\n"
          ]
        }
      ]
    },
    {
      "cell_type": "code",
      "source": [
        "conv_base.summary()"
      ],
      "metadata": {
        "colab": {
          "base_uri": "https://localhost:8080/"
        },
        "id": "-xbksY6gQQg-",
        "outputId": "2d4e244b-81fb-47eb-e7f4-345b812705af"
      },
      "execution_count": 2,
      "outputs": [
        {
          "output_type": "stream",
          "name": "stdout",
          "text": [
            "Model: \"vgg16\"\n",
            "_________________________________________________________________\n",
            " Layer (type)                Output Shape              Param #   \n",
            "=================================================================\n",
            " input_1 (InputLayer)        [(None, 150, 150, 3)]     0         \n",
            "                                                                 \n",
            " block1_conv1 (Conv2D)       (None, 150, 150, 64)      1792      \n",
            "                                                                 \n",
            " block1_conv2 (Conv2D)       (None, 150, 150, 64)      36928     \n",
            "                                                                 \n",
            " block1_pool (MaxPooling2D)  (None, 75, 75, 64)        0         \n",
            "                                                                 \n",
            " block2_conv1 (Conv2D)       (None, 75, 75, 128)       73856     \n",
            "                                                                 \n",
            " block2_conv2 (Conv2D)       (None, 75, 75, 128)       147584    \n",
            "                                                                 \n",
            " block2_pool (MaxPooling2D)  (None, 37, 37, 128)       0         \n",
            "                                                                 \n",
            " block3_conv1 (Conv2D)       (None, 37, 37, 256)       295168    \n",
            "                                                                 \n",
            " block3_conv2 (Conv2D)       (None, 37, 37, 256)       590080    \n",
            "                                                                 \n",
            " block3_conv3 (Conv2D)       (None, 37, 37, 256)       590080    \n",
            "                                                                 \n",
            " block3_pool (MaxPooling2D)  (None, 18, 18, 256)       0         \n",
            "                                                                 \n",
            " block4_conv1 (Conv2D)       (None, 18, 18, 512)       1180160   \n",
            "                                                                 \n",
            " block4_conv2 (Conv2D)       (None, 18, 18, 512)       2359808   \n",
            "                                                                 \n",
            " block4_conv3 (Conv2D)       (None, 18, 18, 512)       2359808   \n",
            "                                                                 \n",
            " block4_pool (MaxPooling2D)  (None, 9, 9, 512)         0         \n",
            "                                                                 \n",
            " block5_conv1 (Conv2D)       (None, 9, 9, 512)         2359808   \n",
            "                                                                 \n",
            " block5_conv2 (Conv2D)       (None, 9, 9, 512)         2359808   \n",
            "                                                                 \n",
            " block5_conv3 (Conv2D)       (None, 9, 9, 512)         2359808   \n",
            "                                                                 \n",
            " block5_pool (MaxPooling2D)  (None, 4, 4, 512)         0         \n",
            "                                                                 \n",
            "=================================================================\n",
            "Total params: 14,714,688\n",
            "Trainable params: 14,714,688\n",
            "Non-trainable params: 0\n",
            "_________________________________________________________________\n"
          ]
        }
      ]
    },
    {
      "cell_type": "code",
      "source": [
        "# Load the Drive helper and mount\n",
        "from google.colab import drive\n",
        "\n",
        "# This will prompt for authorization.\n",
        "drive.mount('/content/drive')"
      ],
      "metadata": {
        "colab": {
          "base_uri": "https://localhost:8080/"
        },
        "id": "a5nvLsFcTOo1",
        "outputId": "2a2bae1d-055f-4800-f6dd-66418182a65b"
      },
      "execution_count": 3,
      "outputs": [
        {
          "output_type": "stream",
          "name": "stdout",
          "text": [
            "Mounted at /content/drive\n"
          ]
        }
      ]
    },
    {
      "cell_type": "code",
      "source": [
        "import os\n",
        "import numpy as np\n",
        "from keras.preprocessing.image import ImageDataGenerator\n",
        "\n",
        "# The directory where smaller dataset is stored\n",
        "base_dir = '/content/drive/MyDrive/dogs-vs-cats_small_data'\n",
        "train_dir = os.path.join(base_dir, 'train')\n",
        "validation_dir = os.path.join(base_dir, 'validation')\n",
        "test_dir = os.path.join(base_dir, 'test')\n",
        "\n",
        "datagen = ImageDataGenerator(rescale=1./255)\n",
        "batch_size = 20\n",
        "\n",
        "def extract_features(directory, sample_count):\n",
        "    features = np.zeros(shape=(sample_count, 4, 4, 512))\n",
        "    labels = np.zeros(shape=(sample_count))\n",
        "    generator = datagen.flow_from_directory(\n",
        "        directory,\n",
        "        target_size=(150, 150),\n",
        "        batch_size=batch_size,\n",
        "        class_mode='binary')\n",
        "    i = 0\n",
        "    for inputs_batch, labels_batch in generator:\n",
        "        features_batch = conv_base.predict(inputs_batch)\n",
        "        features[i * batch_size : (i + 1) * batch_size] = features_batch\n",
        "        labels[i * batch_size : (i + 1) * batch_size] = labels_batch\n",
        "        i += 1\n",
        "        if i * batch_size >= sample_count:\n",
        "            # Note that since generators yield data indefinitely in a loop,\n",
        "            # we must `break` after every image has been seen once.\n",
        "            break\n",
        "    return features, labels\n"
      ],
      "metadata": {
        "id": "EP2biPs-PlEq"
      },
      "execution_count": 4,
      "outputs": []
    },
    {
      "cell_type": "code",
      "source": [
        "train_features, train_labels = extract_features(train_dir, 2000)\n",
        "validation_features, validation_labels = extract_features(validation_dir, 1000)\n",
        "test_features, test_labels = extract_features(test_dir, 1000)"
      ],
      "metadata": {
        "colab": {
          "base_uri": "https://localhost:8080/"
        },
        "id": "34fA8-BYUQzy",
        "outputId": "8a59f18f-be73-431d-ab95-0c19af6bdd35"
      },
      "execution_count": 5,
      "outputs": [
        {
          "output_type": "stream",
          "name": "stdout",
          "text": [
            "Found 2000 images belonging to 2 classes.\n",
            "Found 1000 images belonging to 2 classes.\n",
            "Found 1000 images belonging to 2 classes.\n"
          ]
        }
      ]
    },
    {
      "cell_type": "markdown",
      "source": [
        "The extracted features are currently of shape (samples, 4, 4, 512). We will feed them to a densely-connected classifier, so first we must flatten them to (samples, 8192):"
      ],
      "metadata": {
        "id": "Qdbrlpy5WYGk"
      }
    },
    {
      "cell_type": "code",
      "source": [
        "train_features = np.reshape(train_features, (2000, 4 * 4 * 512))\n",
        "validation_features = np.reshape(validation_features, (1000, 4 * 4 * 512))\n",
        "test_features = np.reshape(test_features, (1000, 4 * 4 * 512))"
      ],
      "metadata": {
        "id": "trcUIGACWSOv"
      },
      "execution_count": 6,
      "outputs": []
    },
    {
      "cell_type": "markdown",
      "source": [
        "At this point, we can define our densely-connected classifier (note the use of dropout for regularization), and train it on the data and labels that we just recorded:"
      ],
      "metadata": {
        "id": "69D4_etUWe2D"
      }
    },
    {
      "cell_type": "code",
      "source": [
        "from keras import models\n",
        "from keras import layers\n",
        "from tensorflow.keras import optimizers\n",
        "\n",
        "model = models.Sequential()\n",
        "model.add(layers.Dense(256, activation='relu', input_dim=4 * 4 * 512))\n",
        "model.add(layers.Dropout(0.5))\n",
        "model.add(layers.Dense(1, activation='sigmoid'))\n",
        "\n",
        "model.compile(optimizer=optimizers.RMSprop(lr=2e-5),\n",
        "              loss='binary_crossentropy',\n",
        "              metrics=['acc'])\n",
        "\n",
        "history = model.fit(train_features, train_labels,\n",
        "                    epochs=30,\n",
        "                    batch_size=20,\n",
        "                    validation_data=(validation_features, validation_labels))"
      ],
      "metadata": {
        "colab": {
          "base_uri": "https://localhost:8080/"
        },
        "id": "YSuO-Ya2WlIf",
        "outputId": "44bda84a-5293-4e1b-a225-633e489f9550"
      },
      "execution_count": 8,
      "outputs": [
        {
          "output_type": "stream",
          "name": "stdout",
          "text": [
            "Epoch 1/30\n"
          ]
        },
        {
          "output_type": "stream",
          "name": "stderr",
          "text": [
            "/usr/local/lib/python3.7/dist-packages/keras/optimizer_v2/rmsprop.py:130: UserWarning: The `lr` argument is deprecated, use `learning_rate` instead.\n",
            "  super(RMSprop, self).__init__(name, **kwargs)\n"
          ]
        },
        {
          "output_type": "stream",
          "name": "stdout",
          "text": [
            "100/100 [==============================] - 2s 6ms/step - loss: 0.5840 - acc: 0.6880 - val_loss: 0.4121 - val_acc: 0.8550\n",
            "Epoch 2/30\n",
            "100/100 [==============================] - 0s 4ms/step - loss: 0.4072 - acc: 0.8160 - val_loss: 0.3507 - val_acc: 0.8530\n",
            "Epoch 3/30\n",
            "100/100 [==============================] - 0s 4ms/step - loss: 0.3530 - acc: 0.8495 - val_loss: 0.3097 - val_acc: 0.8820\n",
            "Epoch 4/30\n",
            "100/100 [==============================] - 0s 5ms/step - loss: 0.3100 - acc: 0.8720 - val_loss: 0.2894 - val_acc: 0.8870\n",
            "Epoch 5/30\n",
            "100/100 [==============================] - 0s 5ms/step - loss: 0.2823 - acc: 0.8815 - val_loss: 0.2751 - val_acc: 0.8900\n",
            "Epoch 6/30\n",
            "100/100 [==============================] - 0s 4ms/step - loss: 0.2569 - acc: 0.9040 - val_loss: 0.2656 - val_acc: 0.8960\n",
            "Epoch 7/30\n",
            "100/100 [==============================] - 0s 4ms/step - loss: 0.2460 - acc: 0.9045 - val_loss: 0.2617 - val_acc: 0.8900\n",
            "Epoch 8/30\n",
            "100/100 [==============================] - 0s 4ms/step - loss: 0.2267 - acc: 0.9145 - val_loss: 0.2558 - val_acc: 0.8920\n",
            "Epoch 9/30\n",
            "100/100 [==============================] - 0s 4ms/step - loss: 0.2117 - acc: 0.9235 - val_loss: 0.2485 - val_acc: 0.8970\n",
            "Epoch 10/30\n",
            "100/100 [==============================] - 0s 4ms/step - loss: 0.2038 - acc: 0.9270 - val_loss: 0.2442 - val_acc: 0.8980\n",
            "Epoch 11/30\n",
            "100/100 [==============================] - 0s 4ms/step - loss: 0.1921 - acc: 0.9225 - val_loss: 0.2469 - val_acc: 0.8980\n",
            "Epoch 12/30\n",
            "100/100 [==============================] - 0s 4ms/step - loss: 0.1809 - acc: 0.9320 - val_loss: 0.2410 - val_acc: 0.9000\n",
            "Epoch 13/30\n",
            "100/100 [==============================] - 0s 4ms/step - loss: 0.1734 - acc: 0.9350 - val_loss: 0.2404 - val_acc: 0.9030\n",
            "Epoch 14/30\n",
            "100/100 [==============================] - 0s 4ms/step - loss: 0.1650 - acc: 0.9430 - val_loss: 0.2353 - val_acc: 0.9070\n",
            "Epoch 15/30\n",
            "100/100 [==============================] - 0s 4ms/step - loss: 0.1551 - acc: 0.9500 - val_loss: 0.2336 - val_acc: 0.9050\n",
            "Epoch 16/30\n",
            "100/100 [==============================] - 0s 4ms/step - loss: 0.1495 - acc: 0.9505 - val_loss: 0.2315 - val_acc: 0.9080\n",
            "Epoch 17/30\n",
            "100/100 [==============================] - 0s 4ms/step - loss: 0.1376 - acc: 0.9540 - val_loss: 0.2312 - val_acc: 0.9060\n",
            "Epoch 18/30\n",
            "100/100 [==============================] - 0s 4ms/step - loss: 0.1403 - acc: 0.9520 - val_loss: 0.2312 - val_acc: 0.9070\n",
            "Epoch 19/30\n",
            "100/100 [==============================] - 0s 4ms/step - loss: 0.1307 - acc: 0.9575 - val_loss: 0.2312 - val_acc: 0.9060\n",
            "Epoch 20/30\n",
            "100/100 [==============================] - 0s 4ms/step - loss: 0.1266 - acc: 0.9600 - val_loss: 0.2334 - val_acc: 0.9080\n",
            "Epoch 21/30\n",
            "100/100 [==============================] - 0s 4ms/step - loss: 0.1208 - acc: 0.9580 - val_loss: 0.2372 - val_acc: 0.9080\n",
            "Epoch 22/30\n",
            "100/100 [==============================] - 0s 4ms/step - loss: 0.1163 - acc: 0.9610 - val_loss: 0.2317 - val_acc: 0.9050\n",
            "Epoch 23/30\n",
            "100/100 [==============================] - 0s 4ms/step - loss: 0.1080 - acc: 0.9660 - val_loss: 0.2328 - val_acc: 0.9020\n",
            "Epoch 24/30\n",
            "100/100 [==============================] - 0s 4ms/step - loss: 0.1052 - acc: 0.9630 - val_loss: 0.2325 - val_acc: 0.9030\n",
            "Epoch 25/30\n",
            "100/100 [==============================] - 0s 4ms/step - loss: 0.0988 - acc: 0.9685 - val_loss: 0.2358 - val_acc: 0.9060\n",
            "Epoch 26/30\n",
            "100/100 [==============================] - 0s 4ms/step - loss: 0.0990 - acc: 0.9640 - val_loss: 0.2327 - val_acc: 0.9020\n",
            "Epoch 27/30\n",
            "100/100 [==============================] - 0s 4ms/step - loss: 0.0933 - acc: 0.9670 - val_loss: 0.2405 - val_acc: 0.9020\n",
            "Epoch 28/30\n",
            "100/100 [==============================] - 0s 4ms/step - loss: 0.0887 - acc: 0.9710 - val_loss: 0.2407 - val_acc: 0.9050\n",
            "Epoch 29/30\n",
            "100/100 [==============================] - 0s 4ms/step - loss: 0.0889 - acc: 0.9700 - val_loss: 0.2394 - val_acc: 0.9070\n",
            "Epoch 30/30\n",
            "100/100 [==============================] - 0s 4ms/step - loss: 0.0821 - acc: 0.9745 - val_loss: 0.2382 - val_acc: 0.9050\n"
          ]
        }
      ]
    },
    {
      "cell_type": "code",
      "source": [
        "import matplotlib.pyplot as plt\n",
        "\n",
        "acc = history.history['acc']\n",
        "val_acc = history.history['val_acc']\n",
        "loss = history.history['loss']\n",
        "val_loss = history.history['val_loss']\n",
        "\n",
        "epochs = range(len(acc))\n",
        "\n",
        "plt.plot(epochs, acc, 'bo', label='Training acc')\n",
        "plt.plot(epochs, val_acc, 'b', label='Validation acc')\n",
        "plt.title('Training and validation accuracy')\n",
        "plt.legend()\n",
        "\n",
        "plt.figure()\n",
        "\n",
        "plt.plot(epochs, loss, 'bo', label='Training loss')\n",
        "plt.plot(epochs, val_loss, 'b', label='Validation loss')\n",
        "plt.title('Training and validation loss')\n",
        "plt.legend()\n",
        "\n",
        "plt.show()"
      ],
      "metadata": {
        "colab": {
          "base_uri": "https://localhost:8080/",
          "height": 545
        },
        "id": "GWufTX8FcI4H",
        "outputId": "9a3d626a-4dcb-4975-e8a1-f65ef7454d3c"
      },
      "execution_count": 9,
      "outputs": [
        {
          "output_type": "display_data",
          "data": {
            "text/plain": [
              "<Figure size 432x288 with 1 Axes>"
            ],
            "image/png": "[encoded data removed]"
          },
          "metadata": {
            "needs_background": "light"
          }
        },
        {
          "output_type": "display_data",
          "data": {
            "text/plain": [
              "<Figure size 432x288 with 1 Axes>"
            ],
            "image/png": "[encoded data removed]"
          },
          "metadata": {
            "needs_background": "light"
          }
        }
      ]
    },
    {
      "cell_type": "code",
      "source": [
        ""
      ],
      "metadata": {
        "id": "HriVfx_CcX28"
      },
      "execution_count": null,
      "outputs": []
    },
    {
      "cell_type": "markdown",
      "source": [
        "We reach a validation accuracy of about 90%, much better than what we could achieve in the previous section with our small model trained from scratch. However, our plots also indicate that we are overfitting almost from the start -- despite using dropout with a fairly large rate. This is because this technique does not leverage data augmentation, which is essential to preventing overfitting with small image datasets.\n",
        "###Second Technique\n",
        "Now, let's review the second technique we mentioned for doing feature extraction, which is much slower and more expensive, but which allows us to leverage data augmentation during training: extending the conv_base model and running it end-to-end on the inputs. Note that this technique is in fact so expensive that you should only attempt it if you have access to a GPU: it is absolutely intractable on CPU. If you cannot run your code on GPU, then the previous technique is the way to go.\n",
        "\n",
        "Because models behave just like layers, you can add a model (like our conv_base) to a Sequential model just like you would add a layer. So you can do the following:"
      ],
      "metadata": {
        "id": "W6OmaZPJcl74"
      }
    },
    {
      "cell_type": "code",
      "source": [
        "from keras import models\n",
        "from keras import layers\n",
        "\n",
        "model = models.Sequential()\n",
        "model.add(conv_base)\n",
        "model.add(layers.Flatten())\n",
        "model.add(layers.Dense(256, activation='relu'))\n",
        "model.add(layers.Dense(1, activation='sigmoid'))"
      ],
      "metadata": {
        "id": "59rwUrjhcqEI"
      },
      "execution_count": 10,
      "outputs": []
    },
    {
      "cell_type": "code",
      "source": [
        "model.summary()"
      ],
      "metadata": {
        "colab": {
          "base_uri": "https://localhost:8080/"
        },
        "id": "NA8HoDCpdSIm",
        "outputId": "e03e87ff-e628-463f-93ed-2ceff443e9f5"
      },
      "execution_count": 11,
      "outputs": [
        {
          "output_type": "stream",
          "name": "stdout",
          "text": [
            "Model: \"sequential_2\"\n",
            "_________________________________________________________________\n",
            " Layer (type)                Output Shape              Param #   \n",
            "=================================================================\n",
            " vgg16 (Functional)          (None, 4, 4, 512)         14714688  \n",
            "                                                                 \n",
            " flatten (Flatten)           (None, 8192)              0         \n",
            "                                                                 \n",
            " dense_4 (Dense)             (None, 256)               2097408   \n",
            "                                                                 \n",
            " dense_5 (Dense)             (None, 1)                 257       \n",
            "                                                                 \n",
            "=================================================================\n",
            "Total params: 16,812,353\n",
            "Trainable params: 16,812,353\n",
            "Non-trainable params: 0\n",
            "_________________________________________________________________\n"
          ]
        }
      ]
    },
    {
      "cell_type": "code",
      "source": [
        ""
      ],
      "metadata": {
        "id": "vW8BsS-LdT5J"
      },
      "execution_count": null,
      "outputs": []
    },
    {
      "cell_type": "markdown",
      "source": [
        "As you can see, the convolutional base of VGG16 has 14,714,688 parameters, which is very large. The classifier we are adding on top has 2 million parameters.\n",
        "\n",
        "Before we compile and train our model, a very important thing to do is to freeze the convolutional base. \"Freezing\" a layer or set of layers means preventing their weights from getting updated during training. If we don't do this, then the representations that were previously learned by the convolutional base would get modified during training. Since the Dense layers on top are randomly initialized, very large weight updates would be propagated through the network, effectively destroying the representations previously learned.\n",
        "\n",
        "In Keras, freezing a network is done by setting its trainable attribute to False:"
      ],
      "metadata": {
        "id": "TZsS-MUBdjCq"
      }
    },
    {
      "cell_type": "code",
      "source": [
        "print('This is the number of trainable weights '\n",
        "      'before freezing the conv base:', len(model.trainable_weights))"
      ],
      "metadata": {
        "colab": {
          "base_uri": "https://localhost:8080/"
        },
        "id": "-USgZreWdjmB",
        "outputId": "94252481-7f19-46cd-8678-20b41a8de7d0"
      },
      "execution_count": 13,
      "outputs": [
        {
          "output_type": "stream",
          "name": "stdout",
          "text": [
            "This is the number of trainable weights before freezing the conv base: 30\n"
          ]
        }
      ]
    },
    {
      "cell_type": "code",
      "source": [
        "conv_base.trainable = False"
      ],
      "metadata": {
        "id": "uaM-mMlJdnYR"
      },
      "execution_count": 14,
      "outputs": []
    },
    {
      "cell_type": "code",
      "source": [
        "print('This is the number of trainable weights '\n",
        "      'after freezing the conv base:', len(model.trainable_weights))"
      ],
      "metadata": {
        "colab": {
          "base_uri": "https://localhost:8080/"
        },
        "id": "W7HHW1_8dtbN",
        "outputId": "c16481a4-753d-4c93-9390-d2ea747bd9af"
      },
      "execution_count": 15,
      "outputs": [
        {
          "output_type": "stream",
          "name": "stdout",
          "text": [
            "This is the number of trainable weights after freezing the conv base: 4\n"
          ]
        }
      ]
    },
    {
      "cell_type": "code",
      "source": [
        ""
      ],
      "metadata": {
        "id": "vFz4aLBcdwTQ"
      },
      "execution_count": null,
      "outputs": []
    },
    {
      "cell_type": "markdown",
      "source": [
        "With this setup, only the weights from the two Dense layers that we added will be trained. That's a total of four weight tensors: two per layer (the main weight matrix and the bias vector). Note that in order for these changes to take effect, we must first compile the model. If you ever modify weight trainability after compilation, you should then re-compile the model, or these changes would be ignored.\n",
        "\n",
        "Now we can start training our model, with the same data augmentation configuration that we used in our previous example:v"
      ],
      "metadata": {
        "id": "bhokOrOMdyjd"
      }
    },
    {
      "cell_type": "code",
      "source": [
        "from keras.preprocessing.image import ImageDataGenerator\n",
        "\n",
        "train_datagen = ImageDataGenerator(\n",
        "      rescale=1./255,\n",
        "      rotation_range=40,\n",
        "      width_shift_range=0.2,\n",
        "      height_shift_range=0.2,\n",
        "      shear_range=0.2,\n",
        "      zoom_range=0.2,\n",
        "      horizontal_flip=True,\n",
        "      fill_mode='nearest')\n",
        "\n",
        "# Note that the validation data should not be augmented!\n",
        "test_datagen = ImageDataGenerator(rescale=1./255)\n",
        "\n",
        "train_generator = train_datagen.flow_from_directory(\n",
        "        # This is the target directory\n",
        "        train_dir,\n",
        "        # All images will be resized to 150x150\n",
        "        target_size=(150, 150),\n",
        "        batch_size=20,\n",
        "        # Since we use binary_crossentropy loss, we need binary labels\n",
        "        class_mode='binary')\n",
        "\n",
        "validation_generator = test_datagen.flow_from_directory(\n",
        "        validation_dir,\n",
        "        target_size=(150, 150),\n",
        "        batch_size=20,\n",
        "        class_mode='binary')\n",
        "\n",
        "model.compile(loss='binary_crossentropy',\n",
        "              optimizer=optimizers.RMSprop(lr=2e-5),\n",
        "              metrics=['acc'])\n",
        "\n",
        "history = model.fit_generator(\n",
        "      train_generator,\n",
        "      steps_per_epoch=100,\n",
        "      epochs=30,\n",
        "      validation_data=validation_generator,\n",
        "      validation_steps=50,\n",
        "      verbose=2)"
      ],
      "metadata": {
        "colab": {
          "base_uri": "https://localhost:8080/"
        },
        "id": "jgJLHg5pdzDU",
        "outputId": "fef07b95-85c0-480d-a076-bab579a79429"
      },
      "execution_count": 16,
      "outputs": [
        {
          "output_type": "stream",
          "name": "stdout",
          "text": [
            "Found 2000 images belonging to 2 classes.\n",
            "Found 1000 images belonging to 2 classes.\n"
          ]
        },
        {
          "output_type": "stream",
          "name": "stderr",
          "text": [
            "/usr/local/lib/python3.7/dist-packages/keras/optimizer_v2/rmsprop.py:130: UserWarning: The `lr` argument is deprecated, use `learning_rate` instead.\n",
            "  super(RMSprop, self).__init__(name, **kwargs)\n",
            "/usr/local/lib/python3.7/dist-packages/ipykernel_launcher.py:41: UserWarning: `Model.fit_generator` is deprecated and will be removed in a future version. Please use `Model.fit`, which supports generators.\n"
          ]
        },
        {
          "output_type": "stream",
          "name": "stdout",
          "text": [
            "Epoch 1/30\n",
            "100/100 - 25s - loss: 0.5980 - acc: 0.7030 - val_loss: 0.4596 - val_acc: 0.8100 - 25s/epoch - 245ms/step\n",
            "Epoch 2/30\n",
            "100/100 - 23s - loss: 0.4905 - acc: 0.7780 - val_loss: 0.3695 - val_acc: 0.8690 - 23s/epoch - 229ms/step\n",
            "Epoch 3/30\n",
            "100/100 - 23s - loss: 0.4333 - acc: 0.8095 - val_loss: 0.3289 - val_acc: 0.8770 - 23s/epoch - 227ms/step\n",
            "Epoch 4/30\n",
            "100/100 - 23s - loss: 0.4038 - acc: 0.8280 - val_loss: 0.3021 - val_acc: 0.8880 - 23s/epoch - 228ms/step\n",
            "Epoch 5/30\n",
            "100/100 - 23s - loss: 0.3854 - acc: 0.8245 - val_loss: 0.2999 - val_acc: 0.8800 - 23s/epoch - 228ms/step\n",
            "Epoch 6/30\n",
            "100/100 - 23s - loss: 0.3802 - acc: 0.8300 - val_loss: 0.2798 - val_acc: 0.8870 - 23s/epoch - 230ms/step\n",
            "Epoch 7/30\n",
            "100/100 - 23s - loss: 0.3582 - acc: 0.8385 - val_loss: 0.2732 - val_acc: 0.8990 - 23s/epoch - 227ms/step\n",
            "Epoch 8/30\n",
            "100/100 - 23s - loss: 0.3461 - acc: 0.8420 - val_loss: 0.2680 - val_acc: 0.9010 - 23s/epoch - 228ms/step\n",
            "Epoch 9/30\n",
            "100/100 - 23s - loss: 0.3439 - acc: 0.8470 - val_loss: 0.2582 - val_acc: 0.9020 - 23s/epoch - 228ms/step\n",
            "Epoch 10/30\n",
            "100/100 - 23s - loss: 0.3327 - acc: 0.8550 - val_loss: 0.2563 - val_acc: 0.9040 - 23s/epoch - 228ms/step\n",
            "Epoch 11/30\n",
            "100/100 - 23s - loss: 0.3312 - acc: 0.8525 - val_loss: 0.2505 - val_acc: 0.9090 - 23s/epoch - 231ms/step\n",
            "Epoch 12/30\n",
            "100/100 - 23s - loss: 0.3155 - acc: 0.8655 - val_loss: 0.2771 - val_acc: 0.8810 - 23s/epoch - 232ms/step\n",
            "Epoch 13/30\n",
            "100/100 - 23s - loss: 0.3337 - acc: 0.8535 - val_loss: 0.2471 - val_acc: 0.9070 - 23s/epoch - 231ms/step\n",
            "Epoch 14/30\n",
            "100/100 - 23s - loss: 0.3175 - acc: 0.8630 - val_loss: 0.2471 - val_acc: 0.9030 - 23s/epoch - 230ms/step\n",
            "Epoch 15/30\n",
            "100/100 - 23s - loss: 0.3159 - acc: 0.8595 - val_loss: 0.2565 - val_acc: 0.8970 - 23s/epoch - 230ms/step\n",
            "Epoch 16/30\n",
            "100/100 - 23s - loss: 0.3138 - acc: 0.8600 - val_loss: 0.2412 - val_acc: 0.9030 - 23s/epoch - 230ms/step\n",
            "Epoch 17/30\n",
            "100/100 - 23s - loss: 0.3158 - acc: 0.8655 - val_loss: 0.2471 - val_acc: 0.9050 - 23s/epoch - 230ms/step\n",
            "Epoch 18/30\n",
            "100/100 - 23s - loss: 0.3024 - acc: 0.8665 - val_loss: 0.2382 - val_acc: 0.9100 - 23s/epoch - 230ms/step\n",
            "Epoch 19/30\n",
            "100/100 - 23s - loss: 0.3005 - acc: 0.8695 - val_loss: 0.2372 - val_acc: 0.9080 - 23s/epoch - 233ms/step\n",
            "Epoch 20/30\n",
            "100/100 - 23s - loss: 0.3009 - acc: 0.8780 - val_loss: 0.2482 - val_acc: 0.9050 - 23s/epoch - 230ms/step\n",
            "Epoch 21/30\n",
            "100/100 - 23s - loss: 0.2973 - acc: 0.8770 - val_loss: 0.2380 - val_acc: 0.9080 - 23s/epoch - 229ms/step\n",
            "Epoch 22/30\n",
            "100/100 - 23s - loss: 0.2966 - acc: 0.8750 - val_loss: 0.2356 - val_acc: 0.9060 - 23s/epoch - 230ms/step\n",
            "Epoch 23/30\n",
            "100/100 - 23s - loss: 0.2817 - acc: 0.8740 - val_loss: 0.2457 - val_acc: 0.8980 - 23s/epoch - 229ms/step\n",
            "Epoch 24/30\n",
            "100/100 - 22s - loss: 0.3000 - acc: 0.8690 - val_loss: 0.2372 - val_acc: 0.9010 - 22s/epoch - 225ms/step\n",
            "Epoch 25/30\n",
            "100/100 - 22s - loss: 0.2880 - acc: 0.8805 - val_loss: 0.2366 - val_acc: 0.9080 - 22s/epoch - 225ms/step\n",
            "Epoch 26/30\n",
            "100/100 - 22s - loss: 0.2870 - acc: 0.8660 - val_loss: 0.2352 - val_acc: 0.9080 - 22s/epoch - 224ms/step\n",
            "Epoch 27/30\n",
            "100/100 - 22s - loss: 0.2920 - acc: 0.8730 - val_loss: 0.2426 - val_acc: 0.9060 - 22s/epoch - 225ms/step\n",
            "Epoch 28/30\n",
            "100/100 - 22s - loss: 0.2839 - acc: 0.8790 - val_loss: 0.2336 - val_acc: 0.9060 - 22s/epoch - 224ms/step\n",
            "Epoch 29/30\n",
            "100/100 - 23s - loss: 0.2841 - acc: 0.8800 - val_loss: 0.2470 - val_acc: 0.9010 - 23s/epoch - 225ms/step\n",
            "Epoch 30/30\n",
            "100/100 - 22s - loss: 0.2935 - acc: 0.8740 - val_loss: 0.2373 - val_acc: 0.9050 - 22s/epoch - 224ms/step\n"
          ]
        }
      ]
    },
    {
      "cell_type": "code",
      "source": [
        "model.save('cats_and_dogs_small_3.h5')"
      ],
      "metadata": {
        "id": "k4yc5qDfd8lC"
      },
      "execution_count": 17,
      "outputs": []
    },
    {
      "cell_type": "code",
      "source": [
        "acc = history.history['acc']\n",
        "val_acc = history.history['val_acc']\n",
        "loss = history.history['loss']\n",
        "val_loss = history.history['val_loss']\n",
        "\n",
        "epochs = range(len(acc))\n",
        "\n",
        "plt.plot(epochs, acc, 'bo', label='Training acc')\n",
        "plt.plot(epochs, val_acc, 'b', label='Validation acc')\n",
        "plt.title('Training and validation accuracy')\n",
        "plt.legend()\n",
        "\n",
        "plt.figure()\n",
        "\n",
        "plt.plot(epochs, loss, 'bo', label='Training loss')\n",
        "plt.plot(epochs, val_loss, 'b', label='Validation loss')\n",
        "plt.title('Training and validation loss')\n",
        "plt.legend()\n",
        "\n",
        "plt.show()"
      ],
      "metadata": {
        "colab": {
          "base_uri": "https://localhost:8080/",
          "height": 545
        },
        "id": "7OakOSZGhG7g",
        "outputId": "91375435-77e7-4cfa-ae7b-c9b8fb9d8193"
      },
      "execution_count": 19,
      "outputs": [
        {
          "output_type": "display_data",
          "data": {
            "text/plain": [
              "<Figure size 432x288 with 1 Axes>"
            ],
            "image/png": "[encoded data removed]"
          },
          "metadata": {
            "needs_background": "light"
          }
        },
        {
          "output_type": "display_data",
          "data": {
            "text/plain": [
              "<Figure size 432x288 with 1 Axes>"
            ],
            "image/png": "[encoded data removed]"
          },
          "metadata": {
            "needs_background": "light"
          }
        }
      ]
    },
    {
      "cell_type": "code",
      "source": [
        ""
      ],
      "metadata": {
        "id": "2H-mvKPchJQC"
      },
      "execution_count": null,
      "outputs": []
    },
    {
      "cell_type": "markdown",
      "source": [
        "As you can see, we reach a validation accuracy of about 96%. This is much better than our small convnet trained from scratch.\n",
        "\n",
        "#Fine-tuning\n",
        "Another widely used technique for model reuse, complementary to feature extraction, is fine-tuning. Fine-tuning consists in unfreezing a few of the top layers of a frozen model base used for feature extraction, and jointly training both the newly added part of the model (in our case, the fully-connected classifier) and these top layers. This is called \"fine-tuning\" because it slightly adjusts the more abstract representations of the model being reused, in order to make them more relevant for the problem at hand.\n",
        "\n",
        "We have stated before that it was necessary to freeze the convolution base of VGG16 in order to be able to train a randomly initialized classifier on top. For the same reason, it is only possible to fine-tune the top layers of the convolutional base once the classifier on top has already been trained. If the classified wasn't already trained, then the error signal propagating through the network during training would be too large, and the representations previously learned by the layers being fine-tuned would be destroyed. Thus the steps for fine-tuning a network are as follow:\n",
        "\n",
        "1) Add your custom network on top of an already trained base network.\n",
        "\n",
        "2) Freeze the base network.\n",
        "\n",
        "3) Train the part you added.\n",
        "\n",
        "4) Unfreeze some layers in the base network.\n",
        "\n",
        "5) Jointly train both these layers and the part you added.\n",
        "\n",
        "We have already completed the first 3 steps when doing feature extraction. Let's proceed with the 4th step: we will unfreeze our conv_base, and then freeze individual layers inside of it."
      ],
      "metadata": {
        "id": "3q2GQfQ8hPkh"
      }
    },
    {
      "cell_type": "code",
      "source": [
        "conv_base.summary()"
      ],
      "metadata": {
        "colab": {
          "base_uri": "https://localhost:8080/"
        },
        "id": "YPrnhbpchRwt",
        "outputId": "44c1761b-1d48-4f6c-8d1f-18ae33cc5cc3"
      },
      "execution_count": 20,
      "outputs": [
        {
          "output_type": "stream",
          "name": "stdout",
          "text": [
            "Model: \"vgg16\"\n",
            "_________________________________________________________________\n",
            " Layer (type)                Output Shape              Param #   \n",
            "=================================================================\n",
            " input_1 (InputLayer)        [(None, 150, 150, 3)]     0         \n",
            "                                                                 \n",
            " block1_conv1 (Conv2D)       (None, 150, 150, 64)      1792      \n",
            "                                                                 \n",
            " block1_conv2 (Conv2D)       (None, 150, 150, 64)      36928     \n",
            "                                                                 \n",
            " block1_pool (MaxPooling2D)  (None, 75, 75, 64)        0         \n",
            "                                                                 \n",
            " block2_conv1 (Conv2D)       (None, 75, 75, 128)       73856     \n",
            "                                                                 \n",
            " block2_conv2 (Conv2D)       (None, 75, 75, 128)       147584    \n",
            "                                                                 \n",
            " block2_pool (MaxPooling2D)  (None, 37, 37, 128)       0         \n",
            "                                                                 \n",
            " block3_conv1 (Conv2D)       (None, 37, 37, 256)       295168    \n",
            "                                                                 \n",
            " block3_conv2 (Conv2D)       (None, 37, 37, 256)       590080    \n",
            "                                                                 \n",
            " block3_conv3 (Conv2D)       (None, 37, 37, 256)       590080    \n",
            "                                                                 \n",
            " block3_pool (MaxPooling2D)  (None, 18, 18, 256)       0         \n",
            "                                                                 \n",
            " block4_conv1 (Conv2D)       (None, 18, 18, 512)       1180160   \n",
            "                                                                 \n",
            " block4_conv2 (Conv2D)       (None, 18, 18, 512)       2359808   \n",
            "                                                                 \n",
            " block4_conv3 (Conv2D)       (None, 18, 18, 512)       2359808   \n",
            "                                                                 \n",
            " block4_pool (MaxPooling2D)  (None, 9, 9, 512)         0         \n",
            "                                                                 \n",
            " block5_conv1 (Conv2D)       (None, 9, 9, 512)         2359808   \n",
            "                                                                 \n",
            " block5_conv2 (Conv2D)       (None, 9, 9, 512)         2359808   \n",
            "                                                                 \n",
            " block5_conv3 (Conv2D)       (None, 9, 9, 512)         2359808   \n",
            "                                                                 \n",
            " block5_pool (MaxPooling2D)  (None, 4, 4, 512)         0         \n",
            "                                                                 \n",
            "=================================================================\n",
            "Total params: 14,714,688\n",
            "Trainable params: 0\n",
            "Non-trainable params: 14,714,688\n",
            "_________________________________________________________________\n"
          ]
        }
      ]
    },
    {
      "cell_type": "code",
      "source": [
        ""
      ],
      "metadata": {
        "id": "9mNaOaNMhjVt"
      },
      "execution_count": null,
      "outputs": []
    },
    {
      "cell_type": "markdown",
      "source": [
        "We will fine-tune the last 3 convolutional layers, which means that all layers up until block4_pool should be frozen, and the layers block5_conv1, block5_conv2 and block5_conv3 should be trainable.\n",
        "\n",
        "Why not fine-tune more layers? Why not fine-tune the entire convolutional base? We could. However, we need to consider that:\n",
        "\n",
        "Earlier layers in the convolutional base encode more generic, reusable features, while layers higher up encode more specialized features. It is more useful to fine-tune the more specialized features, as these are the ones that need to be repurposed on our new problem. There would be fast-decreasing returns in fine-tuning lower layers.\n",
        "\n",
        "The more parameters we are training, the more we are at risk of overfitting. The convolutional base has 15M parameters, so it would be risky to attempt to train it on our small dataset.\n",
        "Thus, in our situation, it is a good strategy to only fine-tune the top 2 to 3 layers in the convolutional base.\n",
        "\n",
        "Let's set this up, starting from where we left off in the previous example:"
      ],
      "metadata": {
        "id": "OstOXIzEh3ZD"
      }
    },
    {
      "cell_type": "code",
      "source": [
        "conv_base.trainable = True\n",
        "\n",
        "set_trainable = False\n",
        "for layer in conv_base.layers:\n",
        "    if layer.name == 'block5_conv1':\n",
        "        set_trainable = True\n",
        "    if set_trainable:\n",
        "        layer.trainable = True\n",
        "    else:\n",
        "        layer.trainable = False"
      ],
      "metadata": {
        "id": "BNl8bd2OiCKh"
      },
      "execution_count": 21,
      "outputs": []
    },
    {
      "cell_type": "code",
      "source": [
        ""
      ],
      "metadata": {
        "id": "RKpexpt-iD86"
      },
      "execution_count": null,
      "outputs": []
    },
    {
      "cell_type": "markdown",
      "source": [
        "Now we can start fine-tuning our network. We will do this with the RMSprop optimizer, using a very low learning rate. The reason for using a low learning rate is that we want to limit the magnitude of the modifications we make to the representations of the 3 layers that we are fine-tuning. Updates that are too large may harm these representations.\n",
        "\n",
        "Now let's proceed with fine-tuning:"
      ],
      "metadata": {
        "id": "ipCP0ggZiGGz"
      }
    },
    {
      "cell_type": "code",
      "source": [
        "model.compile(loss='binary_crossentropy',\n",
        "              optimizer=optimizers.RMSprop(lr=1e-5),\n",
        "              metrics=['acc'])\n",
        "\n",
        "history = model.fit_generator(\n",
        "      train_generator,\n",
        "      steps_per_epoch=100,\n",
        "      epochs=100,\n",
        "      validation_data=validation_generator,\n",
        "      validation_steps=50)"
      ],
      "metadata": {
        "colab": {
          "base_uri": "https://localhost:8080/"
        },
        "id": "SG7iuFGeiGxK",
        "outputId": "2f9b85e9-a93f-4845-dc81-c04b749aa185"
      },
      "execution_count": 22,
      "outputs": [
        {
          "metadata": {
            "tags": null
          },
          "name": "stderr",
          "output_type": "stream",
          "text": [
            "/usr/local/lib/python3.7/dist-packages/keras/optimizer_v2/rmsprop.py:130: UserWarning: The `lr` argument is deprecated, use `learning_rate` instead.\n",
            "  super(RMSprop, self).__init__(name, **kwargs)\n",
            "/usr/local/lib/python3.7/dist-packages/ipykernel_launcher.py:10: UserWarning: `Model.fit_generator` is deprecated and will be removed in a future version. Please use `Model.fit`, which supports generators.\n",
            "  # Remove the CWD from sys.path while we load stuff.\n"
          ]
        },
        {
          "output_type": "stream",
          "name": "stdout",
          "text": [
            "Epoch 1/100\n",
            "100/100 [==============================] - 25s 229ms/step - loss: 0.3112 - acc: 0.8625 - val_loss: 0.2350 - val_acc: 0.9020\n",
            "Epoch 2/100\n",
            "100/100 [==============================] - 23s 232ms/step - loss: 0.2584 - acc: 0.8910 - val_loss: 0.2865 - val_acc: 0.8750\n",
            "Epoch 3/100\n",
            "100/100 [==============================] - 23s 229ms/step - loss: 0.2501 - acc: 0.8945 - val_loss: 0.2463 - val_acc: 0.9050\n",
            "Epoch 4/100\n",
            "100/100 [==============================] - 23s 226ms/step - loss: 0.2165 - acc: 0.9025 - val_loss: 0.2509 - val_acc: 0.9070\n",
            "Epoch 5/100\n",
            "100/100 [==============================] - 23s 227ms/step - loss: 0.2030 - acc: 0.9195 - val_loss: 0.1936 - val_acc: 0.9200\n",
            "Epoch 6/100\n",
            "100/100 [==============================] - 23s 228ms/step - loss: 0.1954 - acc: 0.9190 - val_loss: 0.2021 - val_acc: 0.9170\n",
            "Epoch 7/100\n",
            "100/100 [==============================] - 23s 228ms/step - loss: 0.1860 - acc: 0.9215 - val_loss: 0.1868 - val_acc: 0.9300\n",
            "Epoch 8/100\n",
            "100/100 [==============================] - 23s 227ms/step - loss: 0.1659 - acc: 0.9255 - val_loss: 0.1821 - val_acc: 0.9250\n",
            "Epoch 9/100\n",
            "100/100 [==============================] - 23s 228ms/step - loss: 0.1690 - acc: 0.9310 - val_loss: 0.1828 - val_acc: 0.9290\n",
            "Epoch 10/100\n",
            "100/100 [==============================] - 23s 231ms/step - loss: 0.1530 - acc: 0.9380 - val_loss: 0.1819 - val_acc: 0.9240\n",
            "Epoch 11/100\n",
            "100/100 [==============================] - 23s 233ms/step - loss: 0.1416 - acc: 0.9370 - val_loss: 0.1945 - val_acc: 0.9300\n",
            "Epoch 12/100\n",
            "100/100 [==============================] - 23s 229ms/step - loss: 0.1497 - acc: 0.9355 - val_loss: 0.2637 - val_acc: 0.9060\n",
            "Epoch 13/100\n",
            "100/100 [==============================] - 23s 234ms/step - loss: 0.1312 - acc: 0.9475 - val_loss: 0.1949 - val_acc: 0.9290\n",
            "Epoch 14/100\n",
            "100/100 [==============================] - 23s 234ms/step - loss: 0.1341 - acc: 0.9495 - val_loss: 0.1967 - val_acc: 0.9310\n",
            "Epoch 15/100\n",
            "100/100 [==============================] - 23s 233ms/step - loss: 0.1298 - acc: 0.9535 - val_loss: 0.1959 - val_acc: 0.9360\n",
            "Epoch 16/100\n",
            "100/100 [==============================] - 23s 232ms/step - loss: 0.1323 - acc: 0.9485 - val_loss: 0.1905 - val_acc: 0.9340\n",
            "Epoch 17/100\n",
            "100/100 [==============================] - 23s 233ms/step - loss: 0.1066 - acc: 0.9590 - val_loss: 0.1633 - val_acc: 0.9330\n",
            "Epoch 18/100\n",
            "100/100 [==============================] - 23s 233ms/step - loss: 0.1036 - acc: 0.9635 - val_loss: 0.2145 - val_acc: 0.9280\n",
            "Epoch 19/100\n",
            "100/100 [==============================] - 23s 233ms/step - loss: 0.1129 - acc: 0.9610 - val_loss: 0.1830 - val_acc: 0.9340\n",
            "Epoch 20/100\n",
            "100/100 [==============================] - 23s 233ms/step - loss: 0.0914 - acc: 0.9645 - val_loss: 0.1917 - val_acc: 0.9310\n",
            "Epoch 21/100\n",
            "100/100 [==============================] - 23s 231ms/step - loss: 0.0950 - acc: 0.9645 - val_loss: 0.1854 - val_acc: 0.9320\n",
            "Epoch 22/100\n",
            "100/100 [==============================] - 23s 229ms/step - loss: 0.0920 - acc: 0.9705 - val_loss: 0.2214 - val_acc: 0.9280\n",
            "Epoch 23/100\n",
            "100/100 [==============================] - 23s 229ms/step - loss: 0.0931 - acc: 0.9650 - val_loss: 0.1984 - val_acc: 0.9290\n",
            "Epoch 24/100\n",
            "100/100 [==============================] - 23s 230ms/step - loss: 0.0901 - acc: 0.9685 - val_loss: 0.1693 - val_acc: 0.9330\n",
            "Epoch 25/100\n",
            "100/100 [==============================] - 23s 232ms/step - loss: 0.0734 - acc: 0.9735 - val_loss: 0.3507 - val_acc: 0.9050\n",
            "Epoch 26/100\n",
            "100/100 [==============================] - 23s 227ms/step - loss: 0.0879 - acc: 0.9670 - val_loss: 0.1855 - val_acc: 0.9280\n",
            "Epoch 27/100\n",
            "100/100 [==============================] - 23s 228ms/step - loss: 0.0782 - acc: 0.9685 - val_loss: 0.1857 - val_acc: 0.9380\n",
            "Epoch 28/100\n",
            "100/100 [==============================] - 23s 228ms/step - loss: 0.0847 - acc: 0.9690 - val_loss: 0.2316 - val_acc: 0.9320\n",
            "Epoch 29/100\n",
            "100/100 [==============================] - 23s 230ms/step - loss: 0.0728 - acc: 0.9715 - val_loss: 0.2526 - val_acc: 0.9220\n",
            "Epoch 30/100\n",
            "100/100 [==============================] - 23s 230ms/step - loss: 0.0746 - acc: 0.9730 - val_loss: 0.2767 - val_acc: 0.9250\n",
            "Epoch 31/100\n",
            "100/100 [==============================] - 23s 229ms/step - loss: 0.0748 - acc: 0.9725 - val_loss: 0.2090 - val_acc: 0.9330\n",
            "Epoch 32/100\n",
            "100/100 [==============================] - 23s 229ms/step - loss: 0.0644 - acc: 0.9730 - val_loss: 0.2005 - val_acc: 0.9350\n",
            "Epoch 33/100\n",
            "100/100 [==============================] - 23s 230ms/step - loss: 0.0598 - acc: 0.9785 - val_loss: 0.2268 - val_acc: 0.9300\n",
            "Epoch 34/100\n",
            "100/100 [==============================] - 23s 230ms/step - loss: 0.0649 - acc: 0.9760 - val_loss: 0.2060 - val_acc: 0.9310\n",
            "Epoch 35/100\n",
            "100/100 [==============================] - 23s 228ms/step - loss: 0.0580 - acc: 0.9790 - val_loss: 0.3697 - val_acc: 0.9130\n",
            "Epoch 36/100\n",
            "100/100 [==============================] - 23s 230ms/step - loss: 0.0620 - acc: 0.9785 - val_loss: 0.2592 - val_acc: 0.9260\n",
            "Epoch 37/100\n",
            "100/100 [==============================] - 23s 230ms/step - loss: 0.0515 - acc: 0.9830 - val_loss: 0.1929 - val_acc: 0.9270\n",
            "Epoch 38/100\n",
            "100/100 [==============================] - 23s 234ms/step - loss: 0.0501 - acc: 0.9830 - val_loss: 0.2448 - val_acc: 0.9290\n",
            "Epoch 39/100\n",
            "100/100 [==============================] - 23s 230ms/step - loss: 0.0543 - acc: 0.9815 - val_loss: 0.2019 - val_acc: 0.9340\n",
            "Epoch 40/100\n",
            "100/100 [==============================] - 23s 231ms/step - loss: 0.0492 - acc: 0.9815 - val_loss: 0.2181 - val_acc: 0.9300\n",
            "Epoch 41/100\n",
            "100/100 [==============================] - 23s 231ms/step - loss: 0.0454 - acc: 0.9835 - val_loss: 0.3039 - val_acc: 0.9250\n",
            "Epoch 42/100\n",
            "100/100 [==============================] - 23s 230ms/step - loss: 0.0522 - acc: 0.9820 - val_loss: 0.2125 - val_acc: 0.9350\n",
            "Epoch 43/100\n",
            "100/100 [==============================] - 23s 230ms/step - loss: 0.0505 - acc: 0.9795 - val_loss: 0.2491 - val_acc: 0.9260\n",
            "Epoch 44/100\n",
            "100/100 [==============================] - 23s 230ms/step - loss: 0.0500 - acc: 0.9825 - val_loss: 0.2746 - val_acc: 0.9170\n",
            "Epoch 45/100\n",
            "100/100 [==============================] - 23s 230ms/step - loss: 0.0553 - acc: 0.9790 - val_loss: 0.1922 - val_acc: 0.9370\n",
            "Epoch 46/100\n",
            "100/100 [==============================] - 23s 231ms/step - loss: 0.0419 - acc: 0.9840 - val_loss: 0.2335 - val_acc: 0.9340\n",
            "Epoch 47/100\n",
            "100/100 [==============================] - 23s 230ms/step - loss: 0.0400 - acc: 0.9835 - val_loss: 0.2351 - val_acc: 0.9330\n",
            "Epoch 48/100\n",
            "100/100 [==============================] - 23s 230ms/step - loss: 0.0436 - acc: 0.9850 - val_loss: 0.2064 - val_acc: 0.9370\n",
            "Epoch 49/100\n",
            "100/100 [==============================] - 23s 229ms/step - loss: 0.0338 - acc: 0.9875 - val_loss: 0.2473 - val_acc: 0.9330\n",
            "Epoch 50/100\n",
            "100/100 [==============================] - 23s 231ms/step - loss: 0.0395 - acc: 0.9855 - val_loss: 0.1987 - val_acc: 0.9340\n",
            "Epoch 51/100\n",
            "100/100 [==============================] - 23s 231ms/step - loss: 0.0513 - acc: 0.9810 - val_loss: 0.1992 - val_acc: 0.9370\n",
            "Epoch 52/100\n",
            "100/100 [==============================] - 23s 230ms/step - loss: 0.0354 - acc: 0.9865 - val_loss: 0.2719 - val_acc: 0.9310\n",
            "Epoch 53/100\n",
            "100/100 [==============================] - 23s 229ms/step - loss: 0.0335 - acc: 0.9880 - val_loss: 0.3048 - val_acc: 0.9200\n",
            "Epoch 54/100\n",
            "100/100 [==============================] - 23s 229ms/step - loss: 0.0447 - acc: 0.9855 - val_loss: 0.2097 - val_acc: 0.9390\n",
            "Epoch 55/100\n",
            "100/100 [==============================] - 23s 231ms/step - loss: 0.0276 - acc: 0.9920 - val_loss: 0.2083 - val_acc: 0.9460\n",
            "Epoch 56/100\n",
            "100/100 [==============================] - 23s 228ms/step - loss: 0.0300 - acc: 0.9895 - val_loss: 0.2159 - val_acc: 0.9450\n",
            "Epoch 57/100\n",
            "100/100 [==============================] - 23s 229ms/step - loss: 0.0304 - acc: 0.9885 - val_loss: 0.2534 - val_acc: 0.9330\n",
            "Epoch 58/100\n",
            "100/100 [==============================] - 23s 229ms/step - loss: 0.0303 - acc: 0.9875 - val_loss: 0.2258 - val_acc: 0.9320\n",
            "Epoch 59/100\n",
            "100/100 [==============================] - 23s 230ms/step - loss: 0.0369 - acc: 0.9875 - val_loss: 0.4355 - val_acc: 0.9130\n",
            "Epoch 60/100\n",
            "100/100 [==============================] - 23s 229ms/step - loss: 0.0341 - acc: 0.9880 - val_loss: 0.3396 - val_acc: 0.9150\n",
            "Epoch 61/100\n",
            "100/100 [==============================] - 23s 229ms/step - loss: 0.0317 - acc: 0.9890 - val_loss: 0.1964 - val_acc: 0.9410\n",
            "Epoch 62/100\n",
            "100/100 [==============================] - 23s 229ms/step - loss: 0.0366 - acc: 0.9885 - val_loss: 0.2712 - val_acc: 0.9240\n",
            "Epoch 63/100\n",
            "100/100 [==============================] - 23s 228ms/step - loss: 0.0293 - acc: 0.9885 - val_loss: 0.2172 - val_acc: 0.9410\n",
            "Epoch 64/100\n",
            "100/100 [==============================] - 23s 229ms/step - loss: 0.0347 - acc: 0.9885 - val_loss: 0.2226 - val_acc: 0.9400\n",
            "Epoch 65/100\n",
            "100/100 [==============================] - 23s 232ms/step - loss: 0.0242 - acc: 0.9910 - val_loss: 0.3113 - val_acc: 0.9270\n",
            "Epoch 66/100\n",
            "100/100 [==============================] - 23s 229ms/step - loss: 0.0254 - acc: 0.9910 - val_loss: 0.2255 - val_acc: 0.9430\n",
            "Epoch 67/100\n",
            "100/100 [==============================] - 23s 229ms/step - loss: 0.0272 - acc: 0.9915 - val_loss: 0.2166 - val_acc: 0.9450\n",
            "Epoch 68/100\n",
            "100/100 [==============================] - 23s 228ms/step - loss: 0.0339 - acc: 0.9885 - val_loss: 0.2211 - val_acc: 0.9450\n",
            "Epoch 69/100\n",
            "100/100 [==============================] - 23s 229ms/step - loss: 0.0217 - acc: 0.9920 - val_loss: 0.2286 - val_acc: 0.9400\n",
            "Epoch 70/100\n",
            "100/100 [==============================] - 23s 228ms/step - loss: 0.0262 - acc: 0.9920 - val_loss: 0.2318 - val_acc: 0.9370\n",
            "Epoch 71/100\n",
            "100/100 [==============================] - 23s 228ms/step - loss: 0.0195 - acc: 0.9925 - val_loss: 0.3365 - val_acc: 0.9260\n",
            "Epoch 72/100\n",
            "100/100 [==============================] - 23s 228ms/step - loss: 0.0215 - acc: 0.9915 - val_loss: 0.2254 - val_acc: 0.9470\n",
            "Epoch 73/100\n",
            "100/100 [==============================] - 23s 229ms/step - loss: 0.0363 - acc: 0.9880 - val_loss: 0.2249 - val_acc: 0.9390\n",
            "Epoch 74/100\n",
            "100/100 [==============================] - 23s 228ms/step - loss: 0.0242 - acc: 0.9925 - val_loss: 0.2281 - val_acc: 0.9350\n",
            "Epoch 75/100\n",
            "100/100 [==============================] - 23s 229ms/step - loss: 0.0228 - acc: 0.9905 - val_loss: 0.2206 - val_acc: 0.9460\n",
            "Epoch 76/100\n",
            "100/100 [==============================] - 23s 227ms/step - loss: 0.0213 - acc: 0.9920 - val_loss: 0.2733 - val_acc: 0.9380\n",
            "Epoch 77/100\n",
            "100/100 [==============================] - 23s 229ms/step - loss: 0.0287 - acc: 0.9900 - val_loss: 0.2449 - val_acc: 0.9390\n",
            "Epoch 78/100\n",
            "100/100 [==============================] - 23s 233ms/step - loss: 0.0240 - acc: 0.9900 - val_loss: 0.2845 - val_acc: 0.9330\n",
            "Epoch 79/100\n",
            "100/100 [==============================] - 23s 230ms/step - loss: 0.0218 - acc: 0.9940 - val_loss: 0.2453 - val_acc: 0.9420\n",
            "Epoch 80/100\n",
            "100/100 [==============================] - 23s 229ms/step - loss: 0.0191 - acc: 0.9945 - val_loss: 0.2656 - val_acc: 0.9410\n",
            "Epoch 81/100\n",
            "100/100 [==============================] - 23s 229ms/step - loss: 0.0326 - acc: 0.9885 - val_loss: 0.2420 - val_acc: 0.9390\n",
            "Epoch 82/100\n",
            "100/100 [==============================] - 23s 229ms/step - loss: 0.0162 - acc: 0.9945 - val_loss: 0.2355 - val_acc: 0.9460\n",
            "Epoch 83/100\n",
            "100/100 [==============================] - 23s 229ms/step - loss: 0.0207 - acc: 0.9925 - val_loss: 0.4823 - val_acc: 0.9110\n",
            "Epoch 84/100\n",
            "100/100 [==============================] - 23s 229ms/step - loss: 0.0225 - acc: 0.9930 - val_loss: 0.3064 - val_acc: 0.9390\n",
            "Epoch 85/100\n",
            "100/100 [==============================] - 23s 229ms/step - loss: 0.0231 - acc: 0.9900 - val_loss: 0.3382 - val_acc: 0.9320\n",
            "Epoch 86/100\n",
            "100/100 [==============================] - 23s 230ms/step - loss: 0.0298 - acc: 0.9910 - val_loss: 0.2731 - val_acc: 0.9400\n",
            "Epoch 87/100\n",
            "100/100 [==============================] - 23s 229ms/step - loss: 0.0115 - acc: 0.9960 - val_loss: 0.2447 - val_acc: 0.9420\n",
            "Epoch 88/100\n",
            "100/100 [==============================] - 23s 229ms/step - loss: 0.0225 - acc: 0.9925 - val_loss: 0.2654 - val_acc: 0.9400\n",
            "Epoch 89/100\n",
            "100/100 [==============================] - 23s 230ms/step - loss: 0.0340 - acc: 0.9880 - val_loss: 0.2300 - val_acc: 0.9450\n",
            "Epoch 90/100\n",
            "100/100 [==============================] - 23s 230ms/step - loss: 0.0237 - acc: 0.9915 - val_loss: 0.2956 - val_acc: 0.9350\n",
            "Epoch 91/100\n",
            "100/100 [==============================] - 23s 232ms/step - loss: 0.0252 - acc: 0.9920 - val_loss: 0.3393 - val_acc: 0.9340\n",
            "Epoch 92/100\n",
            "100/100 [==============================] - 23s 232ms/step - loss: 0.0136 - acc: 0.9950 - val_loss: 0.3688 - val_acc: 0.9230\n",
            "Epoch 93/100\n",
            "100/100 [==============================] - 23s 229ms/step - loss: 0.0249 - acc: 0.9915 - val_loss: 0.2517 - val_acc: 0.9460\n",
            "Epoch 94/100\n",
            "100/100 [==============================] - 23s 228ms/step - loss: 0.0191 - acc: 0.9935 - val_loss: 0.3276 - val_acc: 0.9330\n",
            "Epoch 95/100\n",
            "100/100 [==============================] - 23s 230ms/step - loss: 0.0103 - acc: 0.9965 - val_loss: 0.2662 - val_acc: 0.9400\n",
            "Epoch 96/100\n",
            "100/100 [==============================] - 23s 229ms/step - loss: 0.0190 - acc: 0.9945 - val_loss: 0.2813 - val_acc: 0.9410\n",
            "Epoch 97/100\n",
            "100/100 [==============================] - 23s 230ms/step - loss: 0.0213 - acc: 0.9915 - val_loss: 0.2581 - val_acc: 0.9400\n",
            "Epoch 98/100\n",
            "100/100 [==============================] - 23s 229ms/step - loss: 0.0145 - acc: 0.9950 - val_loss: 0.3082 - val_acc: 0.9330\n",
            "Epoch 99/100\n",
            "100/100 [==============================] - 23s 230ms/step - loss: 0.0268 - acc: 0.9915 - val_loss: 0.3008 - val_acc: 0.9370\n",
            "Epoch 100/100\n",
            "100/100 [==============================] - 23s 230ms/step - loss: 0.0175 - acc: 0.9940 - val_loss: 0.3247 - val_acc: 0.9390\n"
          ]
        }
      ]
    },
    {
      "cell_type": "code",
      "source": [
        "acc = history.history['acc']\n",
        "val_acc = history.history['val_acc']\n",
        "loss = history.history['loss']\n",
        "val_loss = history.history['val_loss']\n",
        "\n",
        "epochs = range(len(acc))\n",
        "\n",
        "plt.plot(epochs, acc, 'bo', label='Training acc')\n",
        "plt.plot(epochs, val_acc, 'b', label='Validation acc')\n",
        "plt.title('Training and validation accuracy')\n",
        "plt.legend()\n",
        "\n",
        "plt.figure()\n",
        "\n",
        "plt.plot(epochs, loss, 'bo', label='Training loss')\n",
        "plt.plot(epochs, val_loss, 'b', label='Validation loss')\n",
        "plt.title('Training and validation loss')\n",
        "plt.legend()\n",
        "\n",
        "plt.show()"
      ],
      "metadata": {
        "colab": {
          "base_uri": "https://localhost:8080/",
          "height": 545
        },
        "id": "4BAFJowliKyd",
        "outputId": "d53a437c-fffb-43e4-c08e-e0941ca84ff1"
      },
      "execution_count": 23,
      "outputs": [
        {
          "output_type": "display_data",
          "data": {
            "text/plain": [
              "<Figure size 432x288 with 1 Axes>"
            ],
            "image/png": "[encoded data removed]"
          },
          "metadata": {
            "needs_background": "light"
          }
        },
        {
          "output_type": "display_data",
          "data": {
            "text/plain": [
              "<Figure size 432x288 with 1 Axes>"
            ],
            "image/png": "[encoded data removed]"
          },
          "metadata": {
            "needs_background": "light"
          }
        }
      ]
    },
    {
      "cell_type": "code",
      "source": [
        "model.save('cats_and_dogs_small_4.h5')"
      ],
      "metadata": {
        "id": "P1jPAazctnkr"
      },
      "execution_count": 24,
      "outputs": []
    },
    {
      "cell_type": "code",
      "source": [
        ""
      ],
      "metadata": {
        "id": "ywbDXq65kn6J"
      },
      "execution_count": null,
      "outputs": []
    },
    {
      "cell_type": "markdown",
      "source": [
        "These curves look very noisy. To make them more readable, we can smooth them by replacing every loss and accuracy with exponential moving averages of these quantities. Here's a trivial utility function to do this:"
      ],
      "metadata": {
        "id": "pQyQD_kltt3K"
      }
    },
    {
      "cell_type": "code",
      "source": [
        "def smooth_curve(points, factor=0.8):\n",
        "  smoothed_points = []\n",
        "  for point in points:\n",
        "    if smoothed_points:\n",
        "      previous = smoothed_points[-1]\n",
        "      smoothed_points.append(previous * factor + point * (1 - factor))\n",
        "    else:\n",
        "      smoothed_points.append(point)\n",
        "  return smoothed_points\n",
        "\n",
        "plt.plot(epochs,\n",
        "         smooth_curve(acc), 'bo', label='Smoothed training acc')\n",
        "plt.plot(epochs,\n",
        "         smooth_curve(val_acc), 'b', label='Smoothed validation acc')\n",
        "plt.title('Training and validation accuracy')\n",
        "plt.legend()\n",
        "\n",
        "plt.figure()\n",
        "\n",
        "plt.plot(epochs,\n",
        "         smooth_curve(loss), 'bo', label='Smoothed training loss')\n",
        "plt.plot(epochs,\n",
        "         smooth_curve(val_loss), 'b', label='Smoothed validation loss')\n",
        "plt.title('Training and validation loss')\n",
        "plt.legend()\n",
        "\n",
        "plt.show()"
      ],
      "metadata": {
        "colab": {
          "base_uri": "https://localhost:8080/",
          "height": 545
        },
        "id": "tOWyLqdGtuea",
        "outputId": "2542a54a-d316-4978-9a43-20beeefdbcd1"
      },
      "execution_count": 25,
      "outputs": [
        {
          "output_type": "display_data",
          "data": {
            "text/plain": [
              "<Figure size 432x288 with 1 Axes>"
            ],
            "image/png": "[encoded data removed]"
          },
          "metadata": {
            "needs_background": "light"
          }
        },
        {
          "output_type": "display_data",
          "data": {
            "text/plain": [
              "<Figure size 432x288 with 1 Axes>"
            ],
            "image/png": "[encoded data removed]"
          },
          "metadata": {
            "needs_background": "light"
          }
        }
      ]
    },
    {
      "cell_type": "code",
      "source": [
        ""
      ],
      "metadata": {
        "id": "JFEmBIrqtyMC"
      },
      "execution_count": null,
      "outputs": []
    },
    {
      "cell_type": "markdown",
      "source": [
        "These curves look much cleaner and more stable. We are seeing a nice 1% absolute improvement.\n",
        "\n",
        "Note that the loss curve does not show any real improvement (in fact, it is deteriorating). You may wonder, how could accuracy improve if the loss isn't decreasing? The answer is simple: what we display is an average of pointwise loss values, but what actually matters for accuracy is the distribution of the loss values, not their average, since accuracy is the result of a binary thresholding of the class probability predicted by the model. The model may still be improving even if this isn't reflected in the average loss.\n",
        "\n",
        "We can now finally evaluate this model on the test data:"
      ],
      "metadata": {
        "id": "Z9RDh3B3uK-z"
      }
    },
    {
      "cell_type": "code",
      "source": [
        "test_generator = test_datagen.flow_from_directory(\n",
        "        test_dir,\n",
        "        target_size=(150, 150),\n",
        "        batch_size=20,\n",
        "        class_mode='binary')\n",
        "\n",
        "test_loss, test_acc = model.evaluate_generator(test_generator, steps=50)\n",
        "print('test acc:', test_acc)"
      ],
      "metadata": {
        "colab": {
          "base_uri": "https://localhost:8080/"
        },
        "id": "zTsfLdUGuLtA",
        "outputId": "dd50f881-c3de-4215-fb59-70e6545f7745"
      },
      "execution_count": 26,
      "outputs": [
        {
          "output_type": "stream",
          "name": "stdout",
          "text": [
            "Found 1000 images belonging to 2 classes.\n"
          ]
        },
        {
          "output_type": "stream",
          "name": "stderr",
          "text": [
            "/usr/local/lib/python3.7/dist-packages/ipykernel_launcher.py:7: UserWarning: `Model.evaluate_generator` is deprecated and will be removed in a future version. Please use `Model.evaluate`, which supports generators.\n",
            "  import sys\n"
          ]
        },
        {
          "output_type": "stream",
          "name": "stdout",
          "text": [
            "test acc: 0.9290000200271606\n"
          ]
        }
      ]
    },
    {
      "cell_type": "code",
      "source": [
        ""
      ],
      "metadata": {
        "id": "e4pW4lCJuOWf"
      },
      "execution_count": null,
      "outputs": []
    },
    {
      "cell_type": "markdown",
      "source": [
        "Here we get a test accuracy of 97%. In the original Kaggle competition around this dataset, this would have been one of the top results. However, using modern deep learning techniques, we managed to reach this result using only a very small fraction of the training data available (about 10%). There is a huge difference between being able to train on 20,000 samples compared to 2,000 samples!"
      ],
      "metadata": {
        "id": "UeIssmWPuQ2W"
      }
    },
    {
      "cell_type": "code",
      "source": [
        ""
      ],
      "metadata": {
        "id": "mduA1-LbuRbx"
      },
      "execution_count": null,
      "outputs": []
    },
    {
      "cell_type": "markdown",
      "source": [
        "#Take-aways: using convnets with small datasets\n",
        "Here's what you should take away from the exercises of these past two sections:\n",
        "\n",
        "Convnets are the best type of machine learning models for computer vision tasks. It is possible to train one from scratch even on a very small dataset, with decent results.\n",
        "\n",
        "On a small dataset, overfitting will be the main issue. Data augmentation is a powerful way to fight overfitting when working with image data.\n",
        "\n",
        "It is easy to reuse an existing convnet on a new dataset, via feature extraction. This is a very valuable technique for working with small image datasets.\n",
        "\n",
        "As a complement to feature extraction, one may use fine-tuning, which adapts to a new problem some of the representations previously learned by an existing model. This pushes performance a bit further.\n",
        "\n",
        "Now you have a solid set of tools for dealing with image classification problems, in particular with small datasets."
      ],
      "metadata": {
        "id": "OzWI-q9Eum2Y"
      }
    },
    {
      "cell_type": "code",
      "source": [
        ""
      ],
      "metadata": {
        "id": "Ma-Pqco4u5DE"
      },
      "execution_count": null,
      "outputs": []
    }
  ]
}