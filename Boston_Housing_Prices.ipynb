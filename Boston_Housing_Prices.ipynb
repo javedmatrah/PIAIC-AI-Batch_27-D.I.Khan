{
  "nbformat": 4,
  "nbformat_minor": 0,
  "metadata": {
    "colab": {
      "name": "Boston Housing Prices.ipynb",
      "provenance": [],
      "collapsed_sections": [],
      "authorship_tag": "ABX9TyODJVOhaAuNZRHBLapKLR/K",
      "include_colab_link": true
    },
    "kernelspec": {
      "name": "python3",
      "display_name": "Python 3"
    },
    "language_info": {
      "name": "python"
    }
  },
  "cells": [
    {
      "cell_type": "markdown",
      "metadata": {
        "id": "view-in-github",
        "colab_type": "text"
      },
      "source": [
        "<a href=\"https://colab.research.google.com/github/javedmatrah/AIQ2/blob/main/Boston_Housing_Prices.ipynb\" target=\"_parent\"><img src=\"https://colab.research.google.com/assets/colab-badge.svg\" alt=\"Open In Colab\"/></a>"
      ]
    },
    {
      "cell_type": "code",
      "execution_count": null,
      "metadata": {
        "id": "4XKLOqYbPevL"
      },
      "outputs": [],
      "source": [
        ""
      ]
    },
    {
      "cell_type": "markdown",
      "source": [
        "#3.6 Predicting house prices: a regression example\n",
        "##3.6.1 The Boston Housing Price dataset"
      ],
      "metadata": {
        "id": "BnL5TwaBXKIo"
      }
    },
    {
      "cell_type": "code",
      "source": [
        ""
      ],
      "metadata": {
        "id": "dEgF21PRXM34"
      },
      "execution_count": null,
      "outputs": []
    },
    {
      "cell_type": "markdown",
      "source": [
        "we have to predict price<br>\n",
        "boston housing mid-1970<br>\n",
        "506 data samples<br>\n",
        "404 training and 102 testing samples<br>\n",
        "13 Features (number of columns in X)\n"
      ],
      "metadata": {
        "id": "hwkYGBSYXQb4"
      }
    },
    {
      "cell_type": "code",
      "source": [
        ""
      ],
      "metadata": {
        "id": "mfDxOJtjXaz_"
      },
      "execution_count": null,
      "outputs": []
    },
    {
      "cell_type": "markdown",
      "source": [
        "##Listing 3.24 Loading the Boston housing dataset"
      ],
      "metadata": {
        "id": "rftOxfOfXhGN"
      }
    },
    {
      "cell_type": "code",
      "source": [
        "from tensorflow.keras.datasets import boston_housing\n",
        "(train_data, train_targets), (test_data, test_targets) = boston_housing.load_data()"
      ],
      "metadata": {
        "colab": {
          "base_uri": "https://localhost:8080/"
        },
        "id": "aTdbab0xXiH9",
        "outputId": "a3bd3a6e-0964-43fb-d878-e2118be5a332"
      },
      "execution_count": 1,
      "outputs": [
        {
          "output_type": "stream",
          "name": "stdout",
          "text": [
            "Downloading data from https://storage.googleapis.com/tensorflow/tf-keras-datasets/boston_housing.npz\n",
            "57344/57026 [==============================] - 0s 0us/step\n",
            "65536/57026 [==================================] - 0s 0us/step\n"
          ]
        }
      ]
    },
    {
      "cell_type": "code",
      "source": [
        "train_data.shape"
      ],
      "metadata": {
        "colab": {
          "base_uri": "https://localhost:8080/"
        },
        "id": "bRkjtkvyXlJb",
        "outputId": "f81adb16-0cc9-495b-f63e-4082fd4b1182"
      },
      "execution_count": 2,
      "outputs": [
        {
          "output_type": "execute_result",
          "data": {
            "text/plain": [
              "(404, 13)"
            ]
          },
          "metadata": {},
          "execution_count": 2
        }
      ]
    },
    {
      "cell_type": "code",
      "source": [
        "test_data.shape"
      ],
      "metadata": {
        "colab": {
          "base_uri": "https://localhost:8080/"
        },
        "id": "N1z3JoTGXviG",
        "outputId": "f5eac73e-cf1f-41f0-d8ed-b2426d3dbb48"
      },
      "execution_count": 3,
      "outputs": [
        {
          "output_type": "execute_result",
          "data": {
            "text/plain": [
              "(102, 13)"
            ]
          },
          "metadata": {},
          "execution_count": 3
        }
      ]
    },
    {
      "cell_type": "code",
      "source": [
        "train_data[0]"
      ],
      "metadata": {
        "colab": {
          "base_uri": "https://localhost:8080/"
        },
        "id": "UBN8JiHHXxLB",
        "outputId": "a4ce64ef-1bd2-4e8d-87b6-e75fe39dee87"
      },
      "execution_count": 4,
      "outputs": [
        {
          "output_type": "execute_result",
          "data": {
            "text/plain": [
              "array([  1.23247,   0.     ,   8.14   ,   0.     ,   0.538  ,   6.142  ,\n",
              "        91.7    ,   3.9769 ,   4.     , 307.     ,  21.     , 396.9    ,\n",
              "        18.72   ])"
            ]
          },
          "metadata": {},
          "execution_count": 4
        }
      ]
    },
    {
      "cell_type": "code",
      "source": [
        "train_targets[0]"
      ],
      "metadata": {
        "colab": {
          "base_uri": "https://localhost:8080/"
        },
        "id": "2GYJEfvyXz6u",
        "outputId": "6ad1cf8b-7493-448a-9dc5-b128d3d9b0f3"
      },
      "execution_count": 5,
      "outputs": [
        {
          "output_type": "execute_result",
          "data": {
            "text/plain": [
              "15.2"
            ]
          },
          "metadata": {},
          "execution_count": 5
        }
      ]
    },
    {
      "cell_type": "code",
      "source": [
        ""
      ],
      "metadata": {
        "id": "OS2a_k-LX2_O"
      },
      "execution_count": 5,
      "outputs": []
    },
    {
      "cell_type": "markdown",
      "source": [
        "##3.6.2 Preparing the data\n",
        "###Listing 3.25 Normalizing the data"
      ],
      "metadata": {
        "id": "LN8B_kIkX7RQ"
      }
    },
    {
      "cell_type": "code",
      "source": [
        "mean = train_data.mean(axis=0)\n",
        "train_data -= mean\n",
        "\n",
        "std = train_data.std(axis=0)\n",
        "\n",
        "train_data /= std\n",
        "test_data -= mean\n",
        "test_data /= std"
      ],
      "metadata": {
        "id": "-5mIp9xyX-Uy"
      },
      "execution_count": 6,
      "outputs": []
    },
    {
      "cell_type": "code",
      "source": [
        "mean"
      ],
      "metadata": {
        "colab": {
          "base_uri": "https://localhost:8080/"
        },
        "id": "QEOe-dKlYII6",
        "outputId": "300bc67e-3fc7-4eca-882f-2e3f6fbb26ec"
      },
      "execution_count": 7,
      "outputs": [
        {
          "output_type": "execute_result",
          "data": {
            "text/plain": [
              "array([3.74511057e+00, 1.14801980e+01, 1.11044307e+01, 6.18811881e-02,\n",
              "       5.57355941e-01, 6.26708168e+00, 6.90106436e+01, 3.74027079e+00,\n",
              "       9.44059406e+00, 4.05898515e+02, 1.84759901e+01, 3.54783168e+02,\n",
              "       1.27408168e+01])"
            ]
          },
          "metadata": {},
          "execution_count": 7
        }
      ]
    },
    {
      "cell_type": "code",
      "source": [
        "std"
      ],
      "metadata": {
        "colab": {
          "base_uri": "https://localhost:8080/"
        },
        "id": "a6FOLId2YKBZ",
        "outputId": "f8dfb795-2105-43e6-f586-dd68686b466c"
      },
      "execution_count": 8,
      "outputs": [
        {
          "output_type": "execute_result",
          "data": {
            "text/plain": [
              "array([9.22929073e+00, 2.37382770e+01, 6.80287253e+00, 2.40939633e-01,\n",
              "       1.17147847e-01, 7.08908627e-01, 2.79060634e+01, 2.02770050e+00,\n",
              "       8.68758849e+00, 1.66168506e+02, 2.19765689e+00, 9.39946015e+01,\n",
              "       7.24556085e+00])"
            ]
          },
          "metadata": {},
          "execution_count": 8
        }
      ]
    },
    {
      "cell_type": "code",
      "source": [
        "train_data[0]"
      ],
      "metadata": {
        "colab": {
          "base_uri": "https://localhost:8080/"
        },
        "id": "k3hIoTM7YMPZ",
        "outputId": "a0cdf07a-c00b-4b5e-ff55-0b0d3f71d505"
      },
      "execution_count": 9,
      "outputs": [
        {
          "output_type": "execute_result",
          "data": {
            "text/plain": [
              "array([-0.27224633, -0.48361547, -0.43576161, -0.25683275, -0.1652266 ,\n",
              "       -0.1764426 ,  0.81306188,  0.1166983 , -0.62624905, -0.59517003,\n",
              "        1.14850044,  0.44807713,  0.8252202 ])"
            ]
          },
          "metadata": {},
          "execution_count": 9
        }
      ]
    },
    {
      "cell_type": "code",
      "source": [
        "import numpy as np\n",
        "np.array(train_data.mean(axis=0),dtype=np.int8)"
      ],
      "metadata": {
        "colab": {
          "base_uri": "https://localhost:8080/"
        },
        "id": "oaGkv-XHYPXz",
        "outputId": "6bc9ca02-2726-4779-ae0a-c6d086dd90ba"
      },
      "execution_count": 10,
      "outputs": [
        {
          "output_type": "execute_result",
          "data": {
            "text/plain": [
              "array([0, 0, 0, 0, 0, 0, 0, 0, 0, 0, 0, 0, 0], dtype=int8)"
            ]
          },
          "metadata": {},
          "execution_count": 10
        }
      ]
    },
    {
      "cell_type": "code",
      "source": [
        ""
      ],
      "metadata": {
        "id": "k_UZbqdUY7td"
      },
      "execution_count": 10,
      "outputs": []
    },
    {
      "cell_type": "code",
      "source": [
        "train_data.std(axis=0)"
      ],
      "metadata": {
        "colab": {
          "base_uri": "https://localhost:8080/"
        },
        "id": "Sn8am6CoZXVm",
        "outputId": "6ea28b92-d631-4fa3-a409-ed0296f986bf"
      },
      "execution_count": 11,
      "outputs": [
        {
          "output_type": "execute_result",
          "data": {
            "text/plain": [
              "array([1., 1., 1., 1., 1., 1., 1., 1., 1., 1., 1., 1., 1.])"
            ]
          },
          "metadata": {},
          "execution_count": 11
        }
      ]
    },
    {
      "cell_type": "code",
      "source": [
        "np.mean(train_data, axis=0)"
      ],
      "metadata": {
        "colab": {
          "base_uri": "https://localhost:8080/"
        },
        "id": "ivbhStuRZYUp",
        "outputId": "ae132e16-b27f-45e6-afe2-8932b59c9857"
      },
      "execution_count": 12,
      "outputs": [
        {
          "output_type": "execute_result",
          "data": {
            "text/plain": [
              "array([-1.01541438e-16,  1.09923072e-17,  1.80933376e-15, -7.80453809e-17,\n",
              "       -5.25047552e-15,  6.43187374e-15,  2.98441140e-16,  4.94653823e-16,\n",
              "        1.12671149e-17, -1.05526149e-16,  2.36614908e-14,  5.96710525e-15,\n",
              "        6.13920356e-16])"
            ]
          },
          "metadata": {},
          "execution_count": 12
        }
      ]
    },
    {
      "cell_type": "code",
      "source": [
        ""
      ],
      "metadata": {
        "id": "Btj-qI-MZeXS"
      },
      "execution_count": 12,
      "outputs": []
    },
    {
      "cell_type": "markdown",
      "source": [
        "#3.6.3 Building your network"
      ],
      "metadata": {
        "id": "gnigV_GXZhOv"
      }
    },
    {
      "cell_type": "code",
      "source": [
        "from tensorflow.keras import models\n",
        "from tensorflow.keras import layers\n",
        "\n",
        "def build_model():\n",
        "    model = models.Sequential()\n",
        "    model.add(layers.Dense(64, activation='relu',\n",
        "                           input_shape=(train_data.shape[1],)))\n",
        "    model.add(layers.Dense(64, activation='relu'))\n",
        "    model.add(layers.Dense(1))\n",
        "    model.compile(optimizer='rmsprop', loss='mse', metrics=['mae'])\n",
        "    return model"
      ],
      "metadata": {
        "id": "V-7hSMQiZiKT"
      },
      "execution_count": 13,
      "outputs": []
    },
    {
      "cell_type": "code",
      "source": [
        "import numpy as np\n",
        "k=4\n",
        "num_val_samples = len(train_data) // k\n",
        "num_epochs = 100\n",
        "all_scores = []\n",
        "all_mae_histories = []\n",
        "for i in range(k):\n",
        "    print('processing fold #', i)\n",
        "    val_data = train_data[i * num_val_samples: (i + 1) * num_val_samples]\n",
        "    val_targets = train_targets[i * num_val_samples: (i + 1) * num_val_samples]\n",
        "    \n",
        "    partial_train_data = np.concatenate(\n",
        "        [train_data[:i * num_val_samples],\n",
        "         train_data[(i + 1) * num_val_samples:]],\n",
        "        axis=0)\n",
        "    \n",
        "    partial_train_targets = np.concatenate(\n",
        "        [train_targets[:i * num_val_samples],\n",
        "         train_targets[(i + 1) * num_val_samples:]],\n",
        "        axis=0)\n",
        "    \n",
        "model = build_model()\n",
        "history = model.fit(partial_train_data, partial_train_targets,\n",
        "                    validation_data=(val_data, val_targets),\n",
        "                    epochs=num_epochs, batch_size=1, verbose=0)\n",
        "mae_history = history.history['val_mae']\n",
        "all_mae_histories.append(mae_history)"
      ],
      "metadata": {
        "colab": {
          "base_uri": "https://localhost:8080/"
        },
        "id": "mqZv1zWJZjxW",
        "outputId": "eae6bbbd-7cdb-4c66-a80b-c2be50af7cfe"
      },
      "execution_count": 15,
      "outputs": [
        {
          "output_type": "stream",
          "name": "stdout",
          "text": [
            "processing fold # 0\n",
            "processing fold # 1\n",
            "processing fold # 2\n",
            "processing fold # 3\n"
          ]
        }
      ]
    },
    {
      "cell_type": "code",
      "source": [
        "history.history.keys()"
      ],
      "metadata": {
        "colab": {
          "base_uri": "https://localhost:8080/"
        },
        "id": "1ousPMOQY9Ya",
        "outputId": "d6d94aec-8b3e-46c7-ec5a-e1afb1ad92b1"
      },
      "execution_count": 16,
      "outputs": [
        {
          "output_type": "execute_result",
          "data": {
            "text/plain": [
              "dict_keys(['loss', 'mae', 'val_loss', 'val_mae'])"
            ]
          },
          "metadata": {},
          "execution_count": 16
        }
      ]
    },
    {
      "cell_type": "markdown",
      "source": [
        "##Listing 3.29 Building the history of successive mean K-fold validation scores"
      ],
      "metadata": {
        "id": "3oXe57JfZEDU"
      }
    },
    {
      "cell_type": "code",
      "source": [
        "average_mae_history = [\n",
        "np.mean([x[i] for x in all_mae_histories]) for i in range(num_epochs)]"
      ],
      "metadata": {
        "id": "bt2tHYv2ZA_l"
      },
      "execution_count": 17,
      "outputs": []
    },
    {
      "cell_type": "code",
      "source": [
        "average_mae_history"
      ],
      "metadata": {
        "colab": {
          "base_uri": "https://localhost:8080/"
        },
        "id": "Y65eO0AVZKXC",
        "outputId": "f6829d6e-b215-4e34-98bf-5653e18bdd8d"
      },
      "execution_count": 18,
      "outputs": [
        {
          "output_type": "execute_result",
          "data": {
            "text/plain": [
              "[5.0393757820129395,\n",
              " 3.469585657119751,\n",
              " 3.31386399269104,\n",
              " 3.07771897315979,\n",
              " 2.9026682376861572,\n",
              " 3.100541591644287,\n",
              " 2.6650354862213135,\n",
              " 2.7899580001831055,\n",
              " 2.511460304260254,\n",
              " 2.6659398078918457,\n",
              " 2.5084526538848877,\n",
              " 2.6045114994049072,\n",
              " 2.5723989009857178,\n",
              " 2.885308265686035,\n",
              " 2.5688836574554443,\n",
              " 2.564906120300293,\n",
              " 2.612123966217041,\n",
              " 2.541837453842163,\n",
              " 2.518972635269165,\n",
              " 2.532914161682129,\n",
              " 2.8429691791534424,\n",
              " 2.4004175662994385,\n",
              " 2.8725974559783936,\n",
              " 2.5700409412384033,\n",
              " 2.354987859725952,\n",
              " 2.4772324562072754,\n",
              " 2.505274772644043,\n",
              " 2.401184320449829,\n",
              " 2.501206398010254,\n",
              " 2.3917293548583984,\n",
              " 2.5506508350372314,\n",
              " 2.6331820487976074,\n",
              " 2.4851491451263428,\n",
              " 2.657567024230957,\n",
              " 2.518705129623413,\n",
              " 2.3588767051696777,\n",
              " 2.436988115310669,\n",
              " 2.436910390853882,\n",
              " 2.634885311126709,\n",
              " 2.7442944049835205,\n",
              " 2.4040637016296387,\n",
              " 2.365290880203247,\n",
              " 2.3895719051361084,\n",
              " 2.421823263168335,\n",
              " 2.559755325317383,\n",
              " 2.4762394428253174,\n",
              " 2.489156484603882,\n",
              " 2.5211994647979736,\n",
              " 2.3915390968322754,\n",
              " 2.533113479614258,\n",
              " 2.383579730987549,\n",
              " 2.5166351795196533,\n",
              " 2.7149085998535156,\n",
              " 2.494684934616089,\n",
              " 2.534120798110962,\n",
              " 2.5953757762908936,\n",
              " 2.487666130065918,\n",
              " 2.9135234355926514,\n",
              " 2.503340005874634,\n",
              " 2.4865918159484863,\n",
              " 2.3725249767303467,\n",
              " 2.533423662185669,\n",
              " 2.521638870239258,\n",
              " 2.4073479175567627,\n",
              " 2.869248390197754,\n",
              " 2.4903783798217773,\n",
              " 2.4204599857330322,\n",
              " 2.5627994537353516,\n",
              " 2.7573492527008057,\n",
              " 2.7348427772521973,\n",
              " 2.4839062690734863,\n",
              " 2.425955295562744,\n",
              " 2.334028482437134,\n",
              " 2.652345895767212,\n",
              " 2.492107629776001,\n",
              " 2.5690500736236572,\n",
              " 2.530064582824707,\n",
              " 2.5680737495422363,\n",
              " 2.4692039489746094,\n",
              " 2.3678319454193115,\n",
              " 2.4043614864349365,\n",
              " 2.5347237586975098,\n",
              " 2.53885555267334,\n",
              " 2.4710240364074707,\n",
              " 2.5367953777313232,\n",
              " 2.5962061882019043,\n",
              " 2.659015417098999,\n",
              " 2.4445791244506836,\n",
              " 2.454402446746826,\n",
              " 2.5200886726379395,\n",
              " 2.9304802417755127,\n",
              " 2.3947691917419434,\n",
              " 2.4762232303619385,\n",
              " 2.6632282733917236,\n",
              " 2.7433598041534424,\n",
              " 2.4908945560455322,\n",
              " 2.7983176708221436,\n",
              " 2.5094597339630127,\n",
              " 2.485431432723999,\n",
              " 2.793105363845825]"
            ]
          },
          "metadata": {},
          "execution_count": 18
        }
      ]
    },
    {
      "cell_type": "code",
      "source": [
        ""
      ],
      "metadata": {
        "id": "B1QKS8zzZQpf"
      },
      "execution_count": null,
      "outputs": []
    },
    {
      "cell_type": "markdown",
      "source": [
        "###Listing 3.30 Plotting validation scores"
      ],
      "metadata": {
        "id": "KfwWT7m4Zf2t"
      }
    },
    {
      "cell_type": "code",
      "source": [
        "import matplotlib.pyplot as plt\n",
        "plt.plot(average_mae_history)\n",
        "plt.xlabel('Epochs')\n",
        "plt.ylabel('Validation MAE')\n",
        "plt.show()"
      ],
      "metadata": {
        "colab": {
          "base_uri": "https://localhost:8080/",
          "height": 279
        },
        "id": "FyOCGpe_ZhQJ",
        "outputId": "ec2bf453-2bab-4a55-e139-3364b33c868b"
      },
      "execution_count": 19,
      "outputs": [
        {
          "output_type": "display_data",
          "data": {
            "text/plain": [
              "<Figure size 432x288 with 1 Axes>"
            ],
            "image/png": "[encoded data removed]"
          },
          "metadata": {
            "needs_background": "light"
          }
        }
      ]
    },
    {
      "cell_type": "code",
      "source": [
        "import matplotlib.pyplot as plt\n",
        "plt.plot(range(1, len(average_mae_history) + 1), average_mae_history)\n",
        "plt.xlabel('Epochs')\n",
        "plt.ylabel('Validation MAE')\n",
        "plt.show()"
      ],
      "metadata": {
        "colab": {
          "base_uri": "https://localhost:8080/",
          "height": 279
        },
        "id": "6SJSyyq1Zmnx",
        "outputId": "3bb40e42-66b9-42d0-b88f-95f738a80366"
      },
      "execution_count": 20,
      "outputs": [
        {
          "output_type": "display_data",
          "data": {
            "text/plain": [
              "<Figure size 432x288 with 1 Axes>"
            ],
            "image/png": "[encoded data removed]"
          },
          "metadata": {
            "needs_background": "light"
          }
        }
      ]
    },
    {
      "cell_type": "code",
      "source": [
        ""
      ],
      "metadata": {
        "id": "QJkrAdbJZ1BF"
      },
      "execution_count": null,
      "outputs": []
    },
    {
      "cell_type": "markdown",
      "source": [
        "##Listing 3.31 Plotting validation scores, excluding the first 10 data points"
      ],
      "metadata": {
        "id": "AeAK4OmJaByx"
      }
    },
    {
      "cell_type": "code",
      "source": [
        "def smooth_curve(points, factor=0.9):\n",
        "    smoothed_points = []\n",
        "    for point in points:\n",
        "        if smoothed_points:\n",
        "            previous = smoothed_points[-1]\n",
        "            smoothed_points.append(previous * factor + point * (1 - factor))\n",
        "        else:\n",
        "            smoothed_points.append(point)\n",
        "    return smoothed_points\n",
        "    \n",
        "smooth_mae_history = smooth_curve(average_mae_history[10:])\n",
        "plt.plot(range(1, len(smooth_mae_history) + 1), smooth_mae_history)\n",
        "plt.xlabel('Epochs')\n",
        "plt.ylabel('Validation MAE')\n",
        "plt.show()"
      ],
      "metadata": {
        "colab": {
          "base_uri": "https://localhost:8080/",
          "height": 279
        },
        "id": "OLb8O89haDMi",
        "outputId": "a5f503aa-04bb-4872-81b1-18f0367022f6"
      },
      "execution_count": 21,
      "outputs": [
        {
          "output_type": "display_data",
          "data": {
            "text/plain": [
              "<Figure size 432x288 with 1 Axes>"
            ],
            "image/png": "[encoded data removed]"
          },
          "metadata": {
            "needs_background": "light"
          }
        }
      ]
    },
    {
      "cell_type": "markdown",
      "source": [
        "##Listing 3.32 Training the final model"
      ],
      "metadata": {
        "id": "9OrdFrhxaPcc"
      }
    },
    {
      "cell_type": "code",
      "source": [
        "model = build_model()\n",
        "model.fit(train_data, train_targets,\n",
        "          epochs=100, batch_size=16, verbose=0)\n",
        "test_mse_score, test_mae_score = model.evaluate(test_data, test_targets)"
      ],
      "metadata": {
        "colab": {
          "base_uri": "https://localhost:8080/"
        },
        "id": "pGEEs1uMaQ_-",
        "outputId": "fc0c0e94-ff54-4c21-a6f3-5a5d077885d9"
      },
      "execution_count": 22,
      "outputs": [
        {
          "output_type": "stream",
          "name": "stdout",
          "text": [
            "4/4 [==============================] - 0s 3ms/step - loss: 17.1446 - mae: 2.6450\n"
          ]
        }
      ]
    },
    {
      "cell_type": "code",
      "source": [
        "test_mse_score"
      ],
      "metadata": {
        "colab": {
          "base_uri": "https://localhost:8080/"
        },
        "id": "az2a_CWDaX3e",
        "outputId": "ffe1315e-b318-4112-993f-a337d956dca6"
      },
      "execution_count": 23,
      "outputs": [
        {
          "output_type": "execute_result",
          "data": {
            "text/plain": [
              "17.14459991455078"
            ]
          },
          "metadata": {},
          "execution_count": 23
        }
      ]
    },
    {
      "cell_type": "code",
      "source": [
        "test_mae_score"
      ],
      "metadata": {
        "colab": {
          "base_uri": "https://localhost:8080/"
        },
        "id": "12uVxd-jagJ0",
        "outputId": "51edbe7a-9b1e-4f3b-b7eb-3d1075f667cb"
      },
      "execution_count": 24,
      "outputs": [
        {
          "output_type": "execute_result",
          "data": {
            "text/plain": [
              "2.644951105117798"
            ]
          },
          "metadata": {},
          "execution_count": 24
        }
      ]
    },
    {
      "cell_type": "code",
      "source": [
        "model.predict(test_data)"
      ],
      "metadata": {
        "colab": {
          "base_uri": "https://localhost:8080/"
        },
        "id": "XM-Xr2hbal3f",
        "outputId": "2eba19c6-a31f-45a5-f4f2-e38ef64a42bc"
      },
      "execution_count": 26,
      "outputs": [
        {
          "output_type": "execute_result",
          "data": {
            "text/plain": [
              "array([[ 8.239449 ],\n",
              "       [19.106491 ],\n",
              "       [21.659851 ],\n",
              "       [33.521366 ],\n",
              "       [24.729567 ],\n",
              "       [21.847366 ],\n",
              "       [26.352612 ],\n",
              "       [21.586222 ],\n",
              "       [19.342276 ],\n",
              "       [21.812073 ],\n",
              "       [20.543001 ],\n",
              "       [17.023903 ],\n",
              "       [16.554323 ],\n",
              "       [40.852985 ],\n",
              "       [19.518564 ],\n",
              "       [20.048126 ],\n",
              "       [25.3831   ],\n",
              "       [18.32697  ],\n",
              "       [18.579844 ],\n",
              "       [25.663395 ],\n",
              "       [11.178287 ],\n",
              "       [14.298906 ],\n",
              "       [21.306015 ],\n",
              "       [15.188238 ],\n",
              "       [19.981836 ],\n",
              "       [24.62797  ],\n",
              "       [28.35311  ],\n",
              "       [27.64936  ],\n",
              "       [10.970935 ],\n",
              "       [19.760267 ],\n",
              "       [19.704706 ],\n",
              "       [14.986692 ],\n",
              "       [32.811245 ],\n",
              "       [23.275778 ],\n",
              "       [17.07897  ],\n",
              "       [ 7.8196716],\n",
              "       [16.119081 ],\n",
              "       [17.08983  ],\n",
              "       [19.958052 ],\n",
              "       [24.831747 ],\n",
              "       [29.995386 ],\n",
              "       [26.73409  ],\n",
              "       [14.180643 ],\n",
              "       [42.226402 ],\n",
              "       [28.48726  ],\n",
              "       [25.779867 ],\n",
              "       [26.937859 ],\n",
              "       [18.162672 ],\n",
              "       [23.194803 ],\n",
              "       [22.726336 ],\n",
              "       [34.770184 ],\n",
              "       [19.888529 ],\n",
              "       [10.870127 ],\n",
              "       [15.767542 ],\n",
              "       [34.78054  ],\n",
              "       [27.275778 ],\n",
              "       [12.284083 ],\n",
              "       [47.119923 ],\n",
              "       [34.34434  ],\n",
              "       [22.90894  ],\n",
              "       [24.58164  ],\n",
              "       [16.471863 ],\n",
              "       [15.300414 ],\n",
              "       [19.294516 ],\n",
              "       [23.14191  ],\n",
              "       [20.194231 ],\n",
              "       [13.885792 ],\n",
              "       [21.430895 ],\n",
              "       [12.9898205],\n",
              "       [ 7.621968 ],\n",
              "       [24.996796 ],\n",
              "       [29.949617 ],\n",
              "       [25.987453 ],\n",
              "       [12.441707 ],\n",
              "       [24.48337  ],\n",
              "       [18.190992 ],\n",
              "       [19.312908 ],\n",
              "       [24.157602 ],\n",
              "       [34.53602  ],\n",
              "       [10.82589  ],\n",
              "       [21.124226 ],\n",
              "       [37.07588  ],\n",
              "       [15.060576 ],\n",
              "       [13.596972 ],\n",
              "       [18.132233 ],\n",
              "       [17.815523 ],\n",
              "       [21.055826 ],\n",
              "       [19.593496 ],\n",
              "       [21.135035 ],\n",
              "       [30.754675 ],\n",
              "       [20.37222  ],\n",
              "       [20.122437 ],\n",
              "       [25.056936 ],\n",
              "       [44.46271  ],\n",
              "       [35.058605 ],\n",
              "       [19.759    ],\n",
              "       [34.898663 ],\n",
              "       [48.548187 ],\n",
              "       [25.879995 ],\n",
              "       [47.4475   ],\n",
              "       [30.023546 ],\n",
              "       [20.680387 ]], dtype=float32)"
            ]
          },
          "metadata": {},
          "execution_count": 26
        }
      ]
    },
    {
      "cell_type": "code",
      "source": [
        ""
      ],
      "metadata": {
        "id": "35j5u5SianiJ"
      },
      "execution_count": null,
      "outputs": []
    }
  ]
}